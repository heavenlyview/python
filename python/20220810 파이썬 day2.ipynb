{
 "cells": [
  {
   "cell_type": "markdown",
   "id": "92b7301e",
   "metadata": {},
   "source": [
    "# Day 2"
   ]
  },
  {
   "cell_type": "markdown",
   "id": "291ac8b3",
   "metadata": {
    "heading_collapsed": true
   },
   "source": [
    "## 복습"
   ]
  },
  {
   "cell_type": "markdown",
   "id": "6d0d634d",
   "metadata": {
    "hidden": true
   },
   "source": [
    "``Ctrl`` + ``슬래시 (/)`` -> ``#`` (주석)  \n",
    "``a`` -> 셀 추가  \n",
    "``dd`` or ``x`` -> 셀 삭제  \n",
    "``m`` -> 마크다운으로 변경  \n"
   ]
  },
  {
   "cell_type": "markdown",
   "id": "1c734537",
   "metadata": {
    "hidden": true
   },
   "source": [
    "``변수명``은 **영어, 숫자, 언더바(_)** 만 입력 가능  \n",
    "단 숫자는 맨 앞에 오면 안 됨\n"
   ]
  },
  {
   "cell_type": "markdown",
   "id": "66e88f8b",
   "metadata": {
    "hidden": true
   },
   "source": [
    "범주형 변수  \n",
    "연속형 변수"
   ]
  },
  {
   "cell_type": "code",
   "execution_count": 196,
   "id": "c23f8769",
   "metadata": {
    "hidden": true
   },
   "outputs": [
    {
     "data": {
      "text/plain": [
       "\"she's gone\""
      ]
     },
     "execution_count": 196,
     "metadata": {},
     "output_type": "execute_result"
    }
   ],
   "source": [
    "a = 'she\\'s gone'\n",
    "a"
   ]
  },
  {
   "cell_type": "markdown",
   "id": "4684f883",
   "metadata": {
    "hidden": true
   },
   "source": [
    "인덱싱 : 변수명[숫자]   \n",
    "슬라이싱 : 변수명[숫자:숫자]\n",
    "\n"
   ]
  },
  {
   "cell_type": "code",
   "execution_count": 197,
   "id": "68c680b5",
   "metadata": {
    "hidden": true
   },
   "outputs": [
    {
     "data": {
      "text/plain": [
       "'My Hero is Ironman.'"
      ]
     },
     "execution_count": 197,
     "metadata": {},
     "output_type": "execute_result"
    }
   ],
   "source": [
    "sentence = \"My Hero is Ironman.\"\n",
    "sentence[::2] # 처음부터 끝까지 2-1칸씩 띄어서 읽어줘\n",
    "sentence[::1] # 처음부터 끝까지 1-1칸씩 띄어서 읽어줘\n"
   ]
  },
  {
   "cell_type": "markdown",
   "id": "c8b8cb34",
   "metadata": {
    "hidden": true
   },
   "source": [
    "---\n",
    "## 포매팅 해보기"
   ]
  },
  {
   "cell_type": "code",
   "execution_count": 198,
   "id": "b4c3f534",
   "metadata": {
    "hidden": true
   },
   "outputs": [
    {
     "name": "stdout",
     "output_type": "stream",
     "text": [
      "오늘의 메뉴는 곱창볶음입니다\n",
      "오늘의 메뉴는 곱창볶음입니다.\n",
      "오늘의 메뉴는 곱창볶음과 짬뽕입니다.\n",
      "오늘의 메뉴는 곱창볶음입니다.\n",
      "오늘의 메뉴는 곱창볶음과 꽈배기입니다.\n",
      "오늘의 메뉴는 곱창볶음와 꽈배기입니다.\n"
     ]
    }
   ],
   "source": [
    "lunch_menu = \"곱창볶음\"\n",
    "lunch_menu2 = \"꽈배기\"\n",
    "lunch_menu3 = \"짬뽕\"\n",
    "\n",
    "print(\"오늘의 메뉴는 \" + lunch_menu + \"입니다\")\n",
    "\n",
    "# 포매팅 해보기 (퍼센트 (%) 사용해보는 방식, 함수 사용하는 방식)\n",
    "print(\"오늘의 메뉴는 %s입니다.\"%lunch_menu)\n",
    "print(\"오늘의 메뉴는 %s과 %s입니다.\"%(lunch_menu, lunch_menu3))\n",
    "\n",
    "print(\"오늘의 메뉴는 {}입니다.\".format(lunch_menu))\n",
    "print(\"오늘의 메뉴는 {0}과 {1}입니다.\".format(lunch_menu, lunch_menu2))\n",
    "print(f\"오늘의 메뉴는 {lunch_menu}와 {lunch_menu2}입니다.\")"
   ]
  },
  {
   "cell_type": "markdown",
   "id": "ae8db4b8",
   "metadata": {
    "hidden": true
   },
   "source": [
    "``%s`` => 문자  \n",
    "``%d`` => 숫자\n",
    "\n",
    "---\n",
    "\n",
    "\"{}\".format()  \n",
    "f\"{}\""
   ]
  },
  {
   "cell_type": "markdown",
   "id": "9b3cb363",
   "metadata": {
    "heading_collapsed": true,
    "hidden": true
   },
   "source": [
    "### 문제: 변수 x에 100을 대입하고, 변수 y에 200을 대입한 뒤, 변수 add에 x와 y의 합을 대입합니다.\n",
    "- 그 후 대입한 변수를 바탕으로 아래 문자를 출력합니다\n",
    "- \"100과 200의 합은 300입니다.\"\n"
   ]
  },
  {
   "cell_type": "code",
   "execution_count": 199,
   "id": "e57896d0",
   "metadata": {
    "hidden": true
   },
   "outputs": [
    {
     "name": "stdout",
     "output_type": "stream",
     "text": [
      "100과 200의 합은 300입니다.\n",
      "100과 200의 합은 300입니다.\n"
     ]
    }
   ],
   "source": [
    "x = 100\n",
    "y = 200\n",
    "add = x + y\n",
    "print(f\"{x}과 {y}의 합은 {add}입니다.\")\n",
    "print(\"{0}과 {1}의 합은 {2}입니다.\".format(x, y, add))"
   ]
  },
  {
   "cell_type": "markdown",
   "id": "17f2ff62",
   "metadata": {
    "heading_collapsed": true
   },
   "source": [
    "## 여러 파이썬 함수(메서드) (count, find, upper, lower, title, replace, split, strip)"
   ]
  },
  {
   "cell_type": "markdown",
   "id": "d0bcfdb1",
   "metadata": {
    "hidden": true
   },
   "source": [
    "``count``  \n",
    "``find``  \n",
    "``upper``  \n",
    "``lower``  \n",
    "``title``  \n",
    "``replace``  \n",
    "``split``  \n",
    "``strip``  \n"
   ]
  },
  {
   "cell_type": "code",
   "execution_count": 200,
   "id": "979b5c48",
   "metadata": {
    "hidden": true
   },
   "outputs": [],
   "source": [
    "song = \"tell me tell me tetetete tell me\""
   ]
  },
  {
   "cell_type": "code",
   "execution_count": 201,
   "id": "1ec402f3",
   "metadata": {
    "hidden": true
   },
   "outputs": [
    {
     "data": {
      "text/plain": [
       "3"
      ]
     },
     "execution_count": 201,
     "metadata": {},
     "output_type": "execute_result"
    }
   ],
   "source": [
    "song.count(\"tell me\") # song 객체에 tell me가 몇 번 들어갔는지 알려줘"
   ]
  },
  {
   "cell_type": "code",
   "execution_count": 202,
   "id": "d6b00936",
   "metadata": {
    "hidden": true
   },
   "outputs": [
    {
     "data": {
      "text/plain": [
       "16"
      ]
     },
     "execution_count": 202,
     "metadata": {},
     "output_type": "execute_result"
    }
   ],
   "source": [
    "song.find(\"tetetete\") # tetetete가 시작되는 지점을 알려줘"
   ]
  },
  {
   "cell_type": "code",
   "execution_count": 203,
   "id": "7b18345e",
   "metadata": {
    "hidden": true
   },
   "outputs": [
    {
     "data": {
      "text/plain": [
       "'TELL ME TELL ME TETETETE TELL ME'"
      ]
     },
     "execution_count": 203,
     "metadata": {},
     "output_type": "execute_result"
    }
   ],
   "source": [
    "song.upper() # song 객체를 전부 대문자로 바꿔줘"
   ]
  },
  {
   "cell_type": "code",
   "execution_count": 204,
   "id": "04a92c5a",
   "metadata": {
    "hidden": true
   },
   "outputs": [
    {
     "data": {
      "text/plain": [
       "'tell me tell me tetetete tell me'"
      ]
     },
     "execution_count": 204,
     "metadata": {},
     "output_type": "execute_result"
    }
   ],
   "source": [
    " song.lower() # song 객체를 전부 소문자로 바꿔줘"
   ]
  },
  {
   "cell_type": "code",
   "execution_count": 205,
   "id": "e2fc40b6",
   "metadata": {
    "hidden": true
   },
   "outputs": [
    {
     "data": {
      "text/plain": [
       "'Tell Me Tell Me Tetetete Tell Me'"
      ]
     },
     "execution_count": 205,
     "metadata": {},
     "output_type": "execute_result"
    }
   ],
   "source": [
    "song.title() # song 객체에서 띄어쓰기를 기준으로 첫 글자만 대문자로 바꿔줘"
   ]
  },
  {
   "cell_type": "code",
   "execution_count": null,
   "id": "ceab70eb",
   "metadata": {
    "hidden": true
   },
   "outputs": [],
   "source": []
  },
  {
   "cell_type": "code",
   "execution_count": 206,
   "id": "2bfdaa1d",
   "metadata": {
    "hidden": true
   },
   "outputs": [
    {
     "data": {
      "text/plain": [
       "'talk to me talk to me tetetete talk to me'"
      ]
     },
     "execution_count": 206,
     "metadata": {},
     "output_type": "execute_result"
    }
   ],
   "source": [
    "song.replace(\"tell\", \"talk to\" ) # song.replace(바꾸고 싶은 글자, 바꿀 글자)"
   ]
  },
  {
   "cell_type": "code",
   "execution_count": 207,
   "id": "1972653b",
   "metadata": {
    "hidden": true
   },
   "outputs": [
    {
     "data": {
      "text/plain": [
       "['tell', 'me', 'tell', 'me', 'tetetete', 'tell', 'me']"
      ]
     },
     "execution_count": 207,
     "metadata": {},
     "output_type": "execute_result"
    }
   ],
   "source": [
    "song.split(\" \") # \" \" (띄어쓰기)를 기준으로 전부 띄어서 보여줘"
   ]
  },
  {
   "cell_type": "code",
   "execution_count": 208,
   "id": "6eb6312a",
   "metadata": {
    "hidden": true
   },
   "outputs": [
    {
     "data": {
      "text/plain": [
       "['암 유얼 맨', '암 유얼 맨 그대여', '다라다따 오늘도']"
      ]
     },
     "execution_count": 208,
     "metadata": {},
     "output_type": "execute_result"
    }
   ],
   "source": [
    "sentence = \"암 유얼 맨. 암 유얼 맨 그대여. 다라다따 오늘도\"\n",
    "\n",
    "sentence.split(\". \")"
   ]
  },
  {
   "cell_type": "code",
   "execution_count": 209,
   "id": "c12da4f9",
   "metadata": {
    "hidden": true
   },
   "outputs": [
    {
     "data": {
      "text/plain": [
       "'tell'"
      ]
     },
     "execution_count": 209,
     "metadata": {},
     "output_type": "execute_result"
    }
   ],
   "source": [
    "ah_ryeon = \"           tell         \"\n",
    "ah_ryeon.strip()  # 양 끝에 있는 공백들을 지워줘"
   ]
  },
  {
   "cell_type": "code",
   "execution_count": 210,
   "id": "10dc14a0",
   "metadata": {
    "hidden": true
   },
   "outputs": [
    {
     "data": {
      "text/plain": [
       "'           tell'"
      ]
     },
     "execution_count": 210,
     "metadata": {},
     "output_type": "execute_result"
    }
   ],
   "source": [
    "ah_ryeon.rstrip() #오른쪽 공백만 지워줘"
   ]
  },
  {
   "cell_type": "code",
   "execution_count": 211,
   "id": "ecc1374c",
   "metadata": {
    "hidden": true
   },
   "outputs": [
    {
     "data": {
      "text/plain": [
       "'tell'"
      ]
     },
     "execution_count": 211,
     "metadata": {},
     "output_type": "execute_result"
    }
   ],
   "source": [
    "ah_ryeon2 = \"............tell..........\"\n",
    "ah_ryeon.strip(\" . \")"
   ]
  },
  {
   "cell_type": "markdown",
   "id": "270cc913",
   "metadata": {
    "heading_collapsed": true
   },
   "source": [
    "## 연산자"
   ]
  },
  {
   "cell_type": "code",
   "execution_count": 212,
   "id": "02a302de",
   "metadata": {
    "hidden": true
   },
   "outputs": [
    {
     "data": {
      "text/plain": [
       "1"
      ]
     },
     "execution_count": 212,
     "metadata": {},
     "output_type": "execute_result"
    }
   ],
   "source": [
    "1 + 1\n",
    "1 - 1\n",
    "2 * 2\n",
    "2 / 2\n",
    "int(2 / 2)"
   ]
  },
  {
   "cell_type": "markdown",
   "id": "6aa668ce",
   "metadata": {
    "hidden": true
   },
   "source": [
    "### 지수 연산"
   ]
  },
  {
   "cell_type": "markdown",
   "id": "55e0c40c",
   "metadata": {
    "hidden": true
   },
   "source": [
    "`` ** ``\n"
   ]
  },
  {
   "cell_type": "code",
   "execution_count": 213,
   "id": "c705e769",
   "metadata": {
    "hidden": true
   },
   "outputs": [
    {
     "data": {
      "text/plain": [
       "27"
      ]
     },
     "execution_count": 213,
     "metadata": {},
     "output_type": "execute_result"
    }
   ],
   "source": [
    "3 ** 3 # 3의 3제곱 해줘"
   ]
  },
  {
   "cell_type": "markdown",
   "id": "761381e7",
   "metadata": {
    "heading_collapsed": true,
    "hidden": true
   },
   "source": [
    "### 몫 연산, 나머지 연산"
   ]
  },
  {
   "cell_type": "markdown",
   "id": "0de56486",
   "metadata": {
    "hidden": true
   },
   "source": [
    "`` // `` , `` % ``"
   ]
  },
  {
   "cell_type": "code",
   "execution_count": 214,
   "id": "dce30872",
   "metadata": {
    "hidden": true
   },
   "outputs": [
    {
     "data": {
      "text/plain": [
       "2"
      ]
     },
     "execution_count": 214,
     "metadata": {},
     "output_type": "execute_result"
    }
   ],
   "source": [
    "7 //3 # 7을 3으로 나눈 몫을 계산해줘"
   ]
  },
  {
   "cell_type": "code",
   "execution_count": 215,
   "id": "fe9e2c9f",
   "metadata": {
    "hidden": true
   },
   "outputs": [
    {
     "data": {
      "text/plain": [
       "1"
      ]
     },
     "execution_count": 215,
     "metadata": {},
     "output_type": "execute_result"
    }
   ],
   "source": [
    "7 % 3 # 7을 3으로 나누고 난 후의 나머지를 계산해줘"
   ]
  },
  {
   "cell_type": "markdown",
   "id": "d4b92a4e",
   "metadata": {
    "heading_collapsed": true,
    "hidden": true
   },
   "source": [
    "### 문자열 연산  \n",
    "문자열 연산은 문자열 끼리 **더하기**만 가능  \n",
    "문자열과 숫자 조합은 **곱하기**만 가능"
   ]
  },
  {
   "cell_type": "code",
   "execution_count": 216,
   "id": "4ab97dbf",
   "metadata": {
    "hidden": true
   },
   "outputs": [
    {
     "data": {
      "text/plain": [
       "'안녕하세요'"
      ]
     },
     "execution_count": 216,
     "metadata": {},
     "output_type": "execute_result"
    }
   ],
   "source": [
    "\"안녕\" + \"하세요\""
   ]
  },
  {
   "cell_type": "code",
   "execution_count": 217,
   "id": "8edc104e",
   "metadata": {
    "hidden": true
   },
   "outputs": [
    {
     "data": {
      "text/plain": [
       "'안녕안녕안녕'"
      ]
     },
     "execution_count": 217,
     "metadata": {},
     "output_type": "execute_result"
    }
   ],
   "source": [
    "\"안녕\" * 3"
   ]
  },
  {
   "cell_type": "code",
   "execution_count": 218,
   "id": "c2ecdc78",
   "metadata": {
    "hidden": true
   },
   "outputs": [
    {
     "data": {
      "text/plain": [
       "'2107'"
      ]
     },
     "execution_count": 218,
     "metadata": {},
     "output_type": "execute_result"
    }
   ],
   "source": [
    "\"2\" + \"10\" + \"7\""
   ]
  },
  {
   "cell_type": "code",
   "execution_count": 219,
   "id": "f2bfe1e9",
   "metadata": {
    "hidden": true
   },
   "outputs": [
    {
     "data": {
      "text/plain": [
       "'2107'"
      ]
     },
     "execution_count": 219,
     "metadata": {},
     "output_type": "execute_result"
    }
   ],
   "source": [
    "str(2) + str(10) + str(7)"
   ]
  },
  {
   "cell_type": "markdown",
   "id": "495ae674",
   "metadata": {
    "heading_collapsed": true
   },
   "source": [
    "## input() "
   ]
  },
  {
   "cell_type": "code",
   "execution_count": 220,
   "id": "8848a906",
   "metadata": {
    "hidden": true
   },
   "outputs": [
    {
     "name": "stdout",
     "output_type": "stream",
     "text": [
      "2\n"
     ]
    }
   ],
   "source": [
    "a = input()"
   ]
  },
  {
   "cell_type": "code",
   "execution_count": 221,
   "id": "a654a119",
   "metadata": {
    "hidden": true
   },
   "outputs": [
    {
     "data": {
      "text/plain": [
       "'2'"
      ]
     },
     "execution_count": 221,
     "metadata": {},
     "output_type": "execute_result"
    }
   ],
   "source": [
    "a"
   ]
  },
  {
   "cell_type": "code",
   "execution_count": 222,
   "id": "2d6c94ab",
   "metadata": {
    "hidden": true
   },
   "outputs": [
    {
     "name": "stdout",
     "output_type": "stream",
     "text": [
      "아이디를 입력하세요2\n"
     ]
    }
   ],
   "source": [
    "b = input(\"아이디를 입력하세요\")"
   ]
  },
  {
   "cell_type": "code",
   "execution_count": 223,
   "id": "f0193cb7",
   "metadata": {
    "hidden": true
   },
   "outputs": [
    {
     "data": {
      "text/plain": [
       "'2'"
      ]
     },
     "execution_count": 223,
     "metadata": {},
     "output_type": "execute_result"
    }
   ],
   "source": [
    "b"
   ]
  },
  {
   "cell_type": "code",
   "execution_count": 224,
   "id": "494bb7bb",
   "metadata": {
    "hidden": true
   },
   "outputs": [
    {
     "data": {
      "text/plain": [
       "'22'"
      ]
     },
     "execution_count": 224,
     "metadata": {},
     "output_type": "execute_result"
    }
   ],
   "source": [
    "a + b"
   ]
  },
  {
   "cell_type": "code",
   "execution_count": 225,
   "id": "29c8b67b",
   "metadata": {
    "hidden": true
   },
   "outputs": [
    {
     "name": "stdout",
     "output_type": "stream",
     "text": [
      "아이디를 입력하세요2\n"
     ]
    }
   ],
   "source": [
    "c = int(input(\"아이디를 입력하세요\"))"
   ]
  },
  {
   "cell_type": "code",
   "execution_count": 226,
   "id": "ed53efe0",
   "metadata": {
    "hidden": true
   },
   "outputs": [
    {
     "data": {
      "text/plain": [
       "2"
      ]
     },
     "execution_count": 226,
     "metadata": {},
     "output_type": "execute_result"
    }
   ],
   "source": [
    "c"
   ]
  },
  {
   "cell_type": "code",
   "execution_count": 227,
   "id": "3660c7b6",
   "metadata": {
    "hidden": true
   },
   "outputs": [
    {
     "data": {
      "text/plain": [
       "'222'"
      ]
     },
     "execution_count": 227,
     "metadata": {},
     "output_type": "execute_result"
    }
   ],
   "source": [
    "a + b + str(c)"
   ]
  },
  {
   "cell_type": "markdown",
   "id": "7bf4e559",
   "metadata": {
    "heading_collapsed": true,
    "hidden": true
   },
   "source": [
    "### 문제를 풀어보자 - 시간 파싱하기"
   ]
  },
  {
   "cell_type": "markdown",
   "id": "764a6c8a",
   "metadata": {
    "hidden": true
   },
   "source": [
    "2022년 08월 10일 14시 34분 29초"
   ]
  },
  {
   "cell_type": "code",
   "execution_count": 228,
   "id": "e5fecfc2",
   "metadata": {
    "hidden": true
   },
   "outputs": [],
   "source": [
    "import datetime\n",
    "datetime1 = datetime.datetime.now().strftime(\"%Y-%m-%d %H:%M:%S\")"
   ]
  },
  {
   "cell_type": "code",
   "execution_count": 229,
   "id": "0ba84702",
   "metadata": {
    "hidden": true
   },
   "outputs": [
    {
     "data": {
      "text/plain": [
       "'2022-08-10 16:48:25'"
      ]
     },
     "execution_count": 229,
     "metadata": {},
     "output_type": "execute_result"
    }
   ],
   "source": [
    "datetime1"
   ]
  },
  {
   "cell_type": "code",
   "execution_count": 230,
   "id": "50e30bd3",
   "metadata": {
    "hidden": true
   },
   "outputs": [
    {
     "data": {
      "text/plain": [
       "'2022년 08월 10일 16시:48분:25초'"
      ]
     },
     "execution_count": 230,
     "metadata": {},
     "output_type": "execute_result"
    }
   ],
   "source": [
    "datetime.datetime.now().strftime(\"%Y년 %m월 %d일 %H시:%M분:%S초\")"
   ]
  },
  {
   "cell_type": "code",
   "execution_count": 231,
   "id": "31baf048",
   "metadata": {
    "hidden": true
   },
   "outputs": [
    {
     "name": "stdout",
     "output_type": "stream",
     "text": [
      "2022년 08월 10일 16시 48분 25초\n"
     ]
    }
   ],
   "source": [
    "# input 함수를 써야할까????????????????????\n",
    "\n",
    "datetime1\n",
    "year = datetime1[:4]\n",
    "month = datetime1[5:7]\n",
    "day = datetime1[8:10]\n",
    "hour = datetime1[11:13]\n",
    "minute = datetime1[14:16]\n",
    "second = datetime1[17:]\n",
    "\n",
    "print(f\"{year}년 {month}월 {day}일 {hour}시 {minute}분 {second}초\")"
   ]
  },
  {
   "cell_type": "markdown",
   "id": "eb0b837d",
   "metadata": {
    "hidden": true
   },
   "source": [
    "### 문제를 풀어보자 2"
   ]
  },
  {
   "cell_type": "markdown",
   "id": "5117aebb",
   "metadata": {
    "hidden": true
   },
   "source": [
    "input 함수로 초 단위의 시간을 받습니다.  \n",
    "그 시간을 시간, 분, 초로 나누어서 출력합니다.\n",
    "\n",
    "예) 3653을 받으면, 1시간 0분 53초를 출력"
   ]
  },
  {
   "cell_type": "code",
   "execution_count": 232,
   "id": "212fef2a",
   "metadata": {
    "hidden": true
   },
   "outputs": [
    {
     "name": "stdout",
     "output_type": "stream",
     "text": [
      "초 단위의 시간을 입력해 주세요.2\n",
      "0시 0분 2초\n"
     ]
    }
   ],
   "source": [
    "time = int(input(\"초 단위의 시간을 입력해 주세요.\"))\n",
    "\n",
    "hour = time//3600\n",
    "minute = time%3600//60\n",
    "second = time%60\n",
    "\n",
    "\n",
    "print(f\"{hour}시 {minute}분 {second}초\")"
   ]
  },
  {
   "cell_type": "markdown",
   "id": "c4e2ffbb",
   "metadata": {
    "hidden": true
   },
   "source": [
    "---"
   ]
  },
  {
   "cell_type": "markdown",
   "id": "d15d84ae",
   "metadata": {
    "hidden": true
   },
   "source": [
    "`` += ``  "
   ]
  },
  {
   "cell_type": "code",
   "execution_count": 233,
   "id": "ab147869",
   "metadata": {
    "hidden": true
   },
   "outputs": [
    {
     "data": {
      "text/plain": [
       "6"
      ]
     },
     "execution_count": 233,
     "metadata": {},
     "output_type": "execute_result"
    }
   ],
   "source": [
    "num = 3\n",
    "num = num + 3\n",
    "num"
   ]
  },
  {
   "cell_type": "code",
   "execution_count": 234,
   "id": "a06b4978",
   "metadata": {
    "hidden": true
   },
   "outputs": [
    {
     "data": {
      "text/plain": [
       "9"
      ]
     },
     "execution_count": 234,
     "metadata": {},
     "output_type": "execute_result"
    }
   ],
   "source": [
    "num += 3\n",
    "num"
   ]
  },
  {
   "cell_type": "markdown",
   "id": "d182ab2e",
   "metadata": {
    "heading_collapsed": true
   },
   "source": [
    "## 논리형"
   ]
  },
  {
   "cell_type": "markdown",
   "id": "3c4d1e95",
   "metadata": {
    "hidden": true
   },
   "source": [
    "**True** or **False**"
   ]
  },
  {
   "cell_type": "code",
   "execution_count": 235,
   "id": "71d40838",
   "metadata": {
    "hidden": true
   },
   "outputs": [
    {
     "data": {
      "text/plain": [
       "False"
      ]
     },
     "execution_count": 235,
     "metadata": {},
     "output_type": "execute_result"
    }
   ],
   "source": [
    "1 > 3"
   ]
  },
  {
   "cell_type": "code",
   "execution_count": 236,
   "id": "117690cd",
   "metadata": {
    "hidden": true
   },
   "outputs": [
    {
     "data": {
      "text/plain": [
       "True"
      ]
     },
     "execution_count": 236,
     "metadata": {},
     "output_type": "execute_result"
    }
   ],
   "source": [
    "1 < 3"
   ]
  },
  {
   "cell_type": "code",
   "execution_count": 237,
   "id": "e2ac31b2",
   "metadata": {
    "hidden": true
   },
   "outputs": [
    {
     "data": {
      "text/plain": [
       "False"
      ]
     },
     "execution_count": 237,
     "metadata": {},
     "output_type": "execute_result"
    }
   ],
   "source": [
    "1 >= 3"
   ]
  },
  {
   "cell_type": "code",
   "execution_count": 238,
   "id": "950abbac",
   "metadata": {
    "hidden": true
   },
   "outputs": [
    {
     "data": {
      "text/plain": [
       "True"
      ]
     },
     "execution_count": 238,
     "metadata": {},
     "output_type": "execute_result"
    }
   ],
   "source": [
    "1 <= 3"
   ]
  },
  {
   "cell_type": "code",
   "execution_count": 239,
   "id": "906942c4",
   "metadata": {
    "hidden": true
   },
   "outputs": [
    {
     "data": {
      "text/plain": [
       "False"
      ]
     },
     "execution_count": 239,
     "metadata": {},
     "output_type": "execute_result"
    }
   ],
   "source": [
    "1 == 3"
   ]
  },
  {
   "cell_type": "code",
   "execution_count": 240,
   "id": "5c3be1e5",
   "metadata": {
    "hidden": true
   },
   "outputs": [
    {
     "data": {
      "text/plain": [
       "True"
      ]
     },
     "execution_count": 240,
     "metadata": {},
     "output_type": "execute_result"
    }
   ],
   "source": [
    "1 != 3"
   ]
  },
  {
   "cell_type": "code",
   "execution_count": 241,
   "id": "f987914b",
   "metadata": {
    "hidden": true
   },
   "outputs": [
    {
     "data": {
      "text/plain": [
       "bool"
      ]
     },
     "execution_count": 241,
     "metadata": {},
     "output_type": "execute_result"
    }
   ],
   "source": [
    "type( 1 != 3)"
   ]
  },
  {
   "cell_type": "code",
   "execution_count": 242,
   "id": "116e9d5c",
   "metadata": {
    "hidden": true
   },
   "outputs": [
    {
     "data": {
      "text/plain": [
       "2"
      ]
     },
     "execution_count": 242,
     "metadata": {},
     "output_type": "execute_result"
    }
   ],
   "source": [
    "True + 1"
   ]
  },
  {
   "cell_type": "code",
   "execution_count": 243,
   "id": "7eee69e7",
   "metadata": {
    "hidden": true
   },
   "outputs": [
    {
     "data": {
      "text/plain": [
       "1"
      ]
     },
     "execution_count": 243,
     "metadata": {},
     "output_type": "execute_result"
    }
   ],
   "source": [
    "True * True"
   ]
  },
  {
   "cell_type": "code",
   "execution_count": 244,
   "id": "4be7a2e6",
   "metadata": {
    "hidden": true
   },
   "outputs": [
    {
     "data": {
      "text/plain": [
       "True"
      ]
     },
     "execution_count": 244,
     "metadata": {},
     "output_type": "execute_result"
    }
   ],
   "source": [
    "1.0 == 1"
   ]
  },
  {
   "cell_type": "markdown",
   "id": "d847a527",
   "metadata": {
    "hidden": true
   },
   "source": [
    "and or"
   ]
  },
  {
   "cell_type": "code",
   "execution_count": 245,
   "id": "9172fbe3",
   "metadata": {
    "hidden": true
   },
   "outputs": [
    {
     "name": "stdout",
     "output_type": "stream",
     "text": [
      "정수를 입력하세요: 2\n"
     ]
    },
    {
     "data": {
      "text/plain": [
       "False"
      ]
     },
     "execution_count": 245,
     "metadata": {},
     "output_type": "execute_result"
    }
   ],
   "source": [
    "num = int(input(\"정수를 입력하세요: \"))\n",
    "\n",
    "num == 0 and num == 1\n",
    "# num == 0 or num  == 1"
   ]
  },
  {
   "cell_type": "markdown",
   "id": "b0ff2d87",
   "metadata": {
    "hidden": true
   },
   "source": [
    "### 문제를 풀어 보자\n",
    "\n",
    "input 함수로 num에 임의의 정수를 입력받습니다.  \n",
    "입력된 수가 2의 배수이자, 3의 배수이면 True  \n",
    "그렇지 않으면 False를 출력합니다.  "
   ]
  },
  {
   "cell_type": "code",
   "execution_count": 246,
   "id": "05c7147b",
   "metadata": {
    "hidden": true
   },
   "outputs": [
    {
     "name": "stdout",
     "output_type": "stream",
     "text": [
      "정수를 입력하세요: 2\n"
     ]
    },
    {
     "data": {
      "text/plain": [
       "False"
      ]
     },
     "execution_count": 246,
     "metadata": {},
     "output_type": "execute_result"
    }
   ],
   "source": [
    "num = int(input(\"정수를 입력하세요: \"))\n",
    "\n",
    "# True : 2의 배수 and 3의 배수\n",
    "# False : 그 외\n",
    "\n",
    "num%2==0 and num%3==0"
   ]
  },
  {
   "cell_type": "markdown",
   "id": "267de472",
   "metadata": {
    "hidden": true
   },
   "source": [
    "input 함수로 num에 임의의 정수를 입력받습니다.  \n",
    "입력된 수가 2의 배수이거나, 3의 배수이면 True  \n",
    "그렇지 않으면 False를 출력합니다."
   ]
  },
  {
   "cell_type": "code",
   "execution_count": 247,
   "id": "cc8aa844",
   "metadata": {
    "hidden": true
   },
   "outputs": [
    {
     "name": "stdout",
     "output_type": "stream",
     "text": [
      "정수를 입력하세요: 2\n"
     ]
    },
    {
     "data": {
      "text/plain": [
       "True"
      ]
     },
     "execution_count": 247,
     "metadata": {},
     "output_type": "execute_result"
    }
   ],
   "source": [
    "num = int(input(\"정수를 입력하세요: \"))\n",
    "\n",
    "num%2==0 or num%3==0"
   ]
  },
  {
   "cell_type": "markdown",
   "id": "36c6b53d",
   "metadata": {
    "heading_collapsed": true
   },
   "source": [
    "## 조건문 (if)"
   ]
  },
  {
   "cell_type": "markdown",
   "id": "78d6c5a3",
   "metadata": {
    "hidden": true
   },
   "source": [
    "파이썬에서는 **블록**의 개념이 있다"
   ]
  },
  {
   "cell_type": "code",
   "execution_count": 248,
   "id": "4e2dc13b",
   "metadata": {
    "hidden": true
   },
   "outputs": [
    {
     "name": "stdout",
     "output_type": "stream",
     "text": [
      "내가 가진 돈: 2\n",
      "버스를 타고 가자\n",
      "와 집이다\n"
     ]
    }
   ],
   "source": [
    "money = int(input(\"내가 가진 돈: \"))\n",
    "\n",
    "if money >= 4000:\n",
    "    print(\"택시를 타고 가자\")\n",
    "    \n",
    "else:\n",
    "    print(\"버스를 타고 가자\")\n",
    "    \n",
    "print(\"와 집이다\")"
   ]
  },
  {
   "cell_type": "markdown",
   "id": "8e87a654",
   "metadata": {
    "heading_collapsed": true,
    "hidden": true
   },
   "source": [
    "### 문제를 풀어보자\n",
    "\n",
    "input 함수로 정수를 받습니다.  \n",
    "만약 주어진 수가 3의 배수라면 \"3의 배수입니다.\"를 출력  \n",
    "아니라면 \"3의 배수가 아닙니다.\"를 출력"
   ]
  },
  {
   "cell_type": "code",
   "execution_count": 249,
   "id": "34b69daa",
   "metadata": {
    "hidden": true
   },
   "outputs": [
    {
     "name": "stdout",
     "output_type": "stream",
     "text": [
      "3의 배수일까요오오오?2\n",
      "3의 배수가 아닙니다.\n"
     ]
    }
   ],
   "source": [
    "num = int(input(\"3의 배수일까요오오오?\"))\n",
    "\n",
    "if num % 3 == 0:\n",
    "    print(\"3의 배수입니다.\")\n",
    "\n",
    "else:\n",
    "    print(\"3의 배수가 아닙니다.\")"
   ]
  },
  {
   "cell_type": "markdown",
   "id": "41adac82",
   "metadata": {
    "heading_collapsed": true,
    "hidden": true
   },
   "source": [
    "### elif"
   ]
  },
  {
   "cell_type": "code",
   "execution_count": 250,
   "id": "c76aa51f",
   "metadata": {
    "hidden": true
   },
   "outputs": [
    {
     "name": "stdout",
     "output_type": "stream",
     "text": [
      "내가 가진 돈: 2\n",
      "걸어 가자\n",
      "와 집이다\n"
     ]
    }
   ],
   "source": [
    "money = int(input(\"내가 가진 돈: \"))\n",
    "\n",
    "if money >= 4000:\n",
    "    print(\"택시를 타고 가자\")\n",
    "    \n",
    "elif money >= 1300 and money < 4000:\n",
    "    print(\"버스를 타고 가자\")\n",
    "    \n",
    "else:\n",
    "    print(\"걸어 가자\")\n",
    "    \n",
    "print(\"와 집이다\")"
   ]
  },
  {
   "cell_type": "markdown",
   "id": "8c1a2fac",
   "metadata": {
    "heading_collapsed": true,
    "hidden": true
   },
   "source": [
    "### 문제를 풀어보자 - 추석 선물 세트 구매\n",
    "\n",
    "추석 선물 세트는 1개에 1만원  \n",
    "추석 선물 세트를 11개 이상 사면 11개째부터 10% 할인되고  \n",
    "추석 선물 세트를 몇 개 샀는지 input 함수로 받아 총 얼마인지 출력해 보기\n"
   ]
  },
  {
   "cell_type": "code",
   "execution_count": 251,
   "id": "46ce3dcb",
   "metadata": {
    "hidden": true
   },
   "outputs": [
    {
     "name": "stdout",
     "output_type": "stream",
     "text": [
      "개수를 입력하세요2\n",
      "20000\n"
     ]
    }
   ],
   "source": [
    "chu = int(input(\"개수를 입력하세요\"))\n",
    "price = 10000  # 객체를 2개 쓰는거구나\n",
    "\n",
    "if chu <= 10:\n",
    "    price = chu * 10000\n",
    "    print(price)\n",
    "else:\n",
    "    price = chu * 10000 - ((chu-10) * 1000)\n",
    "    print(price)"
   ]
  },
  {
   "cell_type": "markdown",
   "id": "b5d7ed29",
   "metadata": {},
   "source": [
    "## 리스트, 튜플"
   ]
  },
  {
   "cell_type": "markdown",
   "id": "37a2963d",
   "metadata": {
    "heading_collapsed": true
   },
   "source": [
    "### 리스트 []"
   ]
  },
  {
   "cell_type": "code",
   "execution_count": 274,
   "id": "55365c3a",
   "metadata": {
    "hidden": true
   },
   "outputs": [
    {
     "data": {
      "text/plain": [
       "list"
      ]
     },
     "execution_count": 274,
     "metadata": {},
     "output_type": "execute_result"
    }
   ],
   "source": [
    "a = [1, 2, 3, 4]\n",
    "\n",
    "type(a)"
   ]
  },
  {
   "cell_type": "code",
   "execution_count": 275,
   "id": "05deeac8",
   "metadata": {
    "hidden": true
   },
   "outputs": [
    {
     "data": {
      "text/plain": [
       "list"
      ]
     },
     "execution_count": 275,
     "metadata": {},
     "output_type": "execute_result"
    }
   ],
   "source": [
    "b = [\"My\", \"name\", \"is\", \"batman\"]\n",
    "type(b)"
   ]
  },
  {
   "cell_type": "code",
   "execution_count": 276,
   "id": "d736f7d3",
   "metadata": {
    "hidden": true
   },
   "outputs": [
    {
     "data": {
      "text/plain": [
       "list"
      ]
     },
     "execution_count": 276,
     "metadata": {},
     "output_type": "execute_result"
    }
   ],
   "source": [
    "c = [1, 2, \"My\", \"name\"]\n",
    "type(c)"
   ]
  },
  {
   "cell_type": "code",
   "execution_count": 277,
   "id": "ae82ad9a",
   "metadata": {
    "hidden": true
   },
   "outputs": [
    {
     "data": {
      "text/plain": [
       "[1, 2, [1, 2]]"
      ]
     },
     "execution_count": 277,
     "metadata": {},
     "output_type": "execute_result"
    }
   ],
   "source": [
    "d = [1, 2, [1, 2]]\n",
    "d"
   ]
  },
  {
   "cell_type": "code",
   "execution_count": 278,
   "id": "34eeb86f",
   "metadata": {
    "hidden": true
   },
   "outputs": [
    {
     "data": {
      "text/plain": [
       "[]"
      ]
     },
     "execution_count": 278,
     "metadata": {},
     "output_type": "execute_result"
    }
   ],
   "source": [
    "e = []\n",
    "e"
   ]
  },
  {
   "cell_type": "code",
   "execution_count": 279,
   "id": "29b6530c",
   "metadata": {
    "hidden": true
   },
   "outputs": [
    {
     "data": {
      "text/plain": [
       "7"
      ]
     },
     "execution_count": 279,
     "metadata": {},
     "output_type": "execute_result"
    }
   ],
   "source": [
    "f = [7, 8, 9, 10]\n",
    "f[0]"
   ]
  },
  {
   "cell_type": "code",
   "execution_count": 280,
   "id": "c29b561c",
   "metadata": {
    "hidden": true
   },
   "outputs": [
    {
     "data": {
      "text/plain": [
       "[7, 8, 9]"
      ]
     },
     "execution_count": 280,
     "metadata": {},
     "output_type": "execute_result"
    }
   ],
   "source": [
    "f[0:3]"
   ]
  },
  {
   "cell_type": "code",
   "execution_count": 281,
   "id": "9a92acb1",
   "metadata": {
    "hidden": true
   },
   "outputs": [
    {
     "data": {
      "text/plain": [
       "7"
      ]
     },
     "execution_count": 281,
     "metadata": {},
     "output_type": "execute_result"
    }
   ],
   "source": [
    "[7, 8, 9, 10][0]"
   ]
  },
  {
   "cell_type": "code",
   "execution_count": 282,
   "id": "2952c9e6",
   "metadata": {
    "hidden": true
   },
   "outputs": [
    {
     "data": {
      "text/plain": [
       "'a'"
      ]
     },
     "execution_count": 282,
     "metadata": {},
     "output_type": "execute_result"
    }
   ],
   "source": [
    "g = [1, 2, [\"a\", \"b\"]]\n",
    "g[2][0]"
   ]
  },
  {
   "cell_type": "markdown",
   "id": "fb27afb0",
   "metadata": {
    "heading_collapsed": true
   },
   "source": [
    "### 튜플 ()"
   ]
  },
  {
   "cell_type": "code",
   "execution_count": 283,
   "id": "ae9132bc",
   "metadata": {
    "hidden": true
   },
   "outputs": [],
   "source": [
    "h = ()\n",
    "i = (1, 2, 3, 4)\n",
    "j = (\"a\", \"b\", \"c\", \"d\")\n",
    "k = (1, 2, \"a\", \"b\")\n",
    "l = (1, 2, [\"a\", \"b\"])\n",
    "m = (1, 2, (\"a\", \"b\"))"
   ]
  },
  {
   "cell_type": "markdown",
   "id": "b576e977",
   "metadata": {
    "hidden": true
   },
   "source": [
    "리스트와 튜플의 차이점:  \n",
    "리스트는 순서가 있고 리스트에 뭔가 더 더하거나 뺄 수 있지만 튜플은 그렇지 않다"
   ]
  },
  {
   "cell_type": "markdown",
   "id": "b32ffd9b",
   "metadata": {},
   "source": [
    "### 리스트2"
   ]
  },
  {
   "cell_type": "code",
   "execution_count": 284,
   "id": "e712d244",
   "metadata": {},
   "outputs": [
    {
     "data": {
      "text/plain": [
       "[1, 2, 3, 4, 5, 6, 7, 8]"
      ]
     },
     "execution_count": 284,
     "metadata": {},
     "output_type": "execute_result"
    }
   ],
   "source": [
    "a = [1, 2, 3, 4]\n",
    "b = [5, 6, 7, 8]\n",
    "a + b"
   ]
  },
  {
   "cell_type": "markdown",
   "id": "63c20812",
   "metadata": {},
   "source": [
    "#### append()\n",
    "\n",
    "값을 리스트 맨 뒤에 추가"
   ]
  },
  {
   "cell_type": "code",
   "execution_count": 285,
   "id": "332c363a",
   "metadata": {},
   "outputs": [
    {
     "data": {
      "text/plain": [
       "[1, 2, 3, 4, 5]"
      ]
     },
     "execution_count": 285,
     "metadata": {},
     "output_type": "execute_result"
    }
   ],
   "source": [
    "a.append(5)\n",
    "a"
   ]
  },
  {
   "cell_type": "markdown",
   "id": "f962f7d5",
   "metadata": {},
   "source": [
    "#### insert()\n",
    "\n",
    "``insert(위치, 넣고 싶은 숫자)``"
   ]
  },
  {
   "cell_type": "code",
   "execution_count": 286,
   "id": "e1f9c1e6",
   "metadata": {},
   "outputs": [
    {
     "data": {
      "text/plain": [
       "[8, 1, 2, 3, 4, 5]"
      ]
     },
     "execution_count": 286,
     "metadata": {},
     "output_type": "execute_result"
    }
   ],
   "source": [
    "a. insert(0, 8) #위치, 8이라는 입력값을 넣고 싶다\n",
    "a"
   ]
  },
  {
   "cell_type": "code",
   "execution_count": 287,
   "id": "a29122e4",
   "metadata": {},
   "outputs": [
    {
     "data": {
      "text/plain": [
       "[8, 1, 2, 3, 4, 5, 20, 20]"
      ]
     },
     "execution_count": 287,
     "metadata": {},
     "output_type": "execute_result"
    }
   ],
   "source": [
    "# 맨 뒤에 20을 넣고 싶어요!!  근데 append도 쓰고 싶고 insert도 쓰고 싶어요\n",
    "a.append(20)\n",
    "a.insert(-1, 20)\n",
    "a"
   ]
  },
  {
   "cell_type": "markdown",
   "id": "35764a20",
   "metadata": {},
   "source": [
    "#### del()\n",
    "반대로 지우기 (인덱싱 써서)  \n",
    "del a[]"
   ]
  },
  {
   "cell_type": "code",
   "execution_count": 288,
   "id": "4715882a",
   "metadata": {},
   "outputs": [
    {
     "data": {
      "text/plain": [
       "[8, 2, 3, 4, 5, 20, 20]"
      ]
     },
     "execution_count": 288,
     "metadata": {},
     "output_type": "execute_result"
    }
   ],
   "source": [
    "del a[1]\n",
    "a"
   ]
  },
  {
   "cell_type": "markdown",
   "id": "aebace1e",
   "metadata": {},
   "source": [
    "#### remove()\n",
    "특정값을 지우기"
   ]
  },
  {
   "cell_type": "code",
   "execution_count": 289,
   "id": "99e948ae",
   "metadata": {},
   "outputs": [
    {
     "data": {
      "text/plain": [
       "[8, 2, 3, 4, 5, 20]"
      ]
     },
     "execution_count": 289,
     "metadata": {},
     "output_type": "execute_result"
    }
   ],
   "source": [
    "a.remove(20)\n",
    "a"
   ]
  },
  {
   "cell_type": "markdown",
   "id": "76372f68",
   "metadata": {},
   "source": [
    "#### 숫자 바꾸기"
   ]
  },
  {
   "cell_type": "code",
   "execution_count": 290,
   "id": "240bd0fc",
   "metadata": {},
   "outputs": [
    {
     "data": {
      "text/plain": [
       "[5, 2, 3, 4, 5, 20]"
      ]
     },
     "execution_count": 290,
     "metadata": {},
     "output_type": "execute_result"
    }
   ],
   "source": [
    "a[0] = 5\n",
    "a"
   ]
  },
  {
   "cell_type": "markdown",
   "id": "92c2dac7",
   "metadata": {},
   "source": [
    "#### sort()\n",
    "\n",
    "오름차순"
   ]
  },
  {
   "cell_type": "code",
   "execution_count": 292,
   "id": "c191b7f7",
   "metadata": {},
   "outputs": [
    {
     "data": {
      "text/plain": [
       "[2, 3, 4, 5, 5, 20]"
      ]
     },
     "execution_count": 292,
     "metadata": {},
     "output_type": "execute_result"
    }
   ],
   "source": [
    "a.sort()\n",
    "a"
   ]
  },
  {
   "cell_type": "markdown",
   "id": "1e343a04",
   "metadata": {},
   "source": [
    "내림차순으로도 바꾸고 싶어요!!!"
   ]
  },
  {
   "cell_type": "code",
   "execution_count": 293,
   "id": "ac868c71",
   "metadata": {},
   "outputs": [
    {
     "data": {
      "text/plain": [
       "[20, 5, 5, 4, 3, 2]"
      ]
     },
     "execution_count": 293,
     "metadata": {},
     "output_type": "execute_result"
    }
   ],
   "source": [
    "a.sort(reverse = True) #parameter reverse = True 추가\n",
    "a"
   ]
  },
  {
   "cell_type": "markdown",
   "id": "bb6e7733",
   "metadata": {},
   "source": [
    "#### a.reverse()\n",
    "반전"
   ]
  },
  {
   "cell_type": "code",
   "execution_count": 294,
   "id": "9ceab257",
   "metadata": {},
   "outputs": [
    {
     "data": {
      "text/plain": [
       "[2, 3, 4, 5, 5, 20]"
      ]
     },
     "execution_count": 294,
     "metadata": {},
     "output_type": "execute_result"
    }
   ],
   "source": [
    "a.reverse()\n",
    "a"
   ]
  },
  {
   "cell_type": "markdown",
   "id": "9ff7d44c",
   "metadata": {},
   "source": [
    "#### len()\n",
    "원소의 길이 수"
   ]
  },
  {
   "cell_type": "code",
   "execution_count": 296,
   "id": "537dfdba",
   "metadata": {},
   "outputs": [
    {
     "data": {
      "text/plain": [
       "6"
      ]
     },
     "execution_count": 296,
     "metadata": {},
     "output_type": "execute_result"
    }
   ],
   "source": [
    "len(a)"
   ]
  },
  {
   "cell_type": "markdown",
   "id": "e6691bf1",
   "metadata": {},
   "source": [
    "``함수``는 괄호를 열고 괄호 안에 조사하고 싶은 친구 넣는 것  \n",
    "``메서드``는 조사하고 싶은 친구 옆에 점(.)찍고 함수()로 쓰는 것\n",
    "\n"
   ]
  },
  {
   "cell_type": "code",
   "execution_count": 303,
   "id": "d4f7e7a7",
   "metadata": {},
   "outputs": [
    {
     "data": {
      "text/plain": [
       "[20, 5, 5, 4, 3, 2]"
      ]
     },
     "execution_count": 303,
     "metadata": {},
     "output_type": "execute_result"
    }
   ],
   "source": [
    "a"
   ]
  },
  {
   "cell_type": "markdown",
   "id": "34f9de23",
   "metadata": {},
   "source": [
    "#### in"
   ]
  },
  {
   "cell_type": "code",
   "execution_count": 311,
   "id": "11617fc5",
   "metadata": {},
   "outputs": [
    {
     "data": {
      "text/plain": [
       "True"
      ]
     },
     "execution_count": 311,
     "metadata": {},
     "output_type": "execute_result"
    }
   ],
   "source": [
    "convi = [\"사이다\", \"콜라\", \"주스\"]\n",
    "\"콜라\" in convi\n",
    "# \"카프리썬\" in convi"
   ]
  },
  {
   "cell_type": "code",
   "execution_count": 314,
   "id": "760c5d19",
   "metadata": {
    "scrolled": true
   },
   "outputs": [
    {
     "data": {
      "text/plain": [
       "True"
      ]
     },
     "execution_count": 314,
     "metadata": {},
     "output_type": "execute_result"
    }
   ],
   "source": [
    "like = \"나는 콜라가 좋아\"\n",
    "\"콜라\" in like"
   ]
  },
  {
   "cell_type": "markdown",
   "id": "e9db7340",
   "metadata": {},
   "source": [
    "#### 문제를 풀어보자"
   ]
  },
  {
   "cell_type": "code",
   "execution_count": 9,
   "id": "a89e87c4",
   "metadata": {},
   "outputs": [
    {
     "data": {
      "text/plain": [
       "0.44338323065585317"
      ]
     },
     "execution_count": 9,
     "metadata": {},
     "output_type": "execute_result"
    }
   ],
   "source": [
    "import random\n",
    "\n",
    "random.random() # 무작위 수 출력해줘"
   ]
  },
  {
   "cell_type": "code",
   "execution_count": 10,
   "id": "72a39003",
   "metadata": {},
   "outputs": [
    {
     "data": {
      "text/plain": [
       "2"
      ]
     },
     "execution_count": 10,
     "metadata": {},
     "output_type": "execute_result"
    }
   ],
   "source": [
    "l = [1, 2, 3, 4, 5]\n",
    "random.choice(l) # l 객체 안에 랜덤으로 하나 골라줘"
   ]
  },
  {
   "cell_type": "markdown",
   "id": "13cbccd0",
   "metadata": {},
   "source": [
    "**가위바위보 게임 만들기**\n",
    "\n",
    "플레이어에게 **가위, 바위, 보** 중 하나를 입력하게 만든다  \n",
    "플레이어가 말을 안 듣고 **가위, 바위, 보** 중 어느 것도 내지 않았을 때에는 **\"잘못된 입력입니다.\"**를 출력합니다.\n",
    "컴퓨터는 동일한 확률로 가위, 바위, 보 중 하나를 낸다  \n",
    "플레이어의 입력과 컴퓨터의 입력을 비교해서 승부를 결정한다  \n",
    "출력문은 **\"당신은 00을 냈고, 컴퓨터는 00을 냈습니다. 당신이 이겼습니다\"**와 같은 형식으로 합니다.\n"
   ]
  },
  {
   "cell_type": "code",
   "execution_count": 14,
   "id": "756c64e9",
   "metadata": {},
   "outputs": [
    {
     "name": "stdout",
     "output_type": "stream",
     "text": [
      "가위, 바위, 보 중 하나를 선택해 주세요.가위\n",
      "당신은 가위를 냈고, 컴퓨터는 보를 냈습니다. 당신이 이겼습니다.\n"
     ]
    }
   ],
   "source": [
    "possible_choice = [\"가위\", \"바위\", \"보\"]\n",
    "player_choice = input(\"가위, 바위, 보 중 하나를 선택해 주세요.\")\n",
    "\n",
    "if player_choice not in possible_choice:\n",
    "    print(\"잘못된 입력입니다.\")\n",
    "    \n",
    "else:\n",
    "    computer_choice = random.choice(possible_choice)\n",
    "    if (player_choice == \"가위\" and computer_choice == \"보\") or (player_choice == \"바위\" and computer_choice == \"가위\") or (player_choice == \"보\" and computer_choice == \"바위\"):\n",
    "        print(f\"당신은 {player_choice}를 냈고, 컴퓨터는 {computer_choice}를 냈습니다. 당신이 이겼습니다.\")\n",
    "    elif player_choice == computer_choice:\n",
    "        print(f\"당신은 {player_choice}를 냈고, 컴퓨터는 {computer_choice}를 냈습니다. 당신이 비겼습니다.\")\n",
    "    else:\n",
    "        print(f\"당신은 {player_choice}를 냈고, 컴퓨터는 {computer_choice}를 냈습니다. 당신이 졌습니다.\")\n"
   ]
  },
  {
   "cell_type": "code",
   "execution_count": null,
   "id": "103a15d2",
   "metadata": {},
   "outputs": [],
   "source": []
  }
 ],
 "metadata": {
  "kernelspec": {
   "display_name": "Python 3 (ipykernel)",
   "language": "python",
   "name": "python3"
  },
  "language_info": {
   "codemirror_mode": {
    "name": "ipython",
    "version": 3
   },
   "file_extension": ".py",
   "mimetype": "text/x-python",
   "name": "python",
   "nbconvert_exporter": "python",
   "pygments_lexer": "ipython3",
   "version": "3.9.12"
  },
  "toc": {
   "base_numbering": 1,
   "nav_menu": {},
   "number_sections": true,
   "sideBar": true,
   "skip_h1_title": false,
   "title_cell": "Table of Contents",
   "title_sidebar": "Contents",
   "toc_cell": false,
   "toc_position": {},
   "toc_section_display": true,
   "toc_window_display": true
  }
 },
 "nbformat": 4,
 "nbformat_minor": 5
}
