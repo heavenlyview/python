{
 "cells": [
  {
   "cell_type": "markdown",
   "id": "6b82b90c",
   "metadata": {
    "heading_collapsed": true
   },
   "source": [
    "## 변수"
   ]
  },
  {
   "cell_type": "markdown",
   "id": "9145c7df",
   "metadata": {
    "hidden": true
   },
   "source": [
    "정수형  \n",
    "실수형  \n",
    "문자형  \n",
    "논리형  "
   ]
  },
  {
   "cell_type": "markdown",
   "id": "7e49e2f0",
   "metadata": {
    "heading_collapsed": true
   },
   "source": [
    "## 인덱싱과 슬라이싱"
   ]
  },
  {
   "cell_type": "code",
   "execution_count": 8,
   "id": "e2d03f92",
   "metadata": {
    "hidden": true
   },
   "outputs": [
    {
     "data": {
      "text/plain": [
       "8"
      ]
     },
     "execution_count": 8,
     "metadata": {},
     "output_type": "execute_result"
    }
   ],
   "source": [
    "a = 3\n",
    "b = 5\n",
    "add = a + b\n",
    "add"
   ]
  },
  {
   "cell_type": "code",
   "execution_count": 10,
   "id": "3af45dea",
   "metadata": {
    "hidden": true
   },
   "outputs": [
    {
     "data": {
      "text/plain": [
       "'add'"
      ]
     },
     "execution_count": 10,
     "metadata": {},
     "output_type": "execute_result"
    }
   ],
   "source": [
    "\"add\""
   ]
  },
  {
   "cell_type": "code",
   "execution_count": 20,
   "id": "f3838798",
   "metadata": {
    "hidden": true
   },
   "outputs": [
    {
     "data": {
      "text/plain": [
       "'w'"
      ]
     },
     "execution_count": 20,
     "metadata": {},
     "output_type": "execute_result"
    }
   ],
   "source": [
    "[\"apple\", \"banana\", [\"melon\", \"watermelon\"]][2][1][0]"
   ]
  },
  {
   "cell_type": "code",
   "execution_count": 32,
   "id": "2cf8288f",
   "metadata": {
    "hidden": true
   },
   "outputs": [],
   "source": [
    "fruit = [[\"mango\", \"grape\"], [\"apple\", \"banana\", [\"melon\", \"watermelon\"]]]"
   ]
  },
  {
   "cell_type": "code",
   "execution_count": 33,
   "id": "6a5fb6be",
   "metadata": {
    "hidden": true
   },
   "outputs": [
    {
     "data": {
      "text/plain": [
       "'a'"
      ]
     },
     "execution_count": 33,
     "metadata": {},
     "output_type": "execute_result"
    }
   ],
   "source": [
    "fruit[0][1][2]"
   ]
  },
  {
   "cell_type": "code",
   "execution_count": 41,
   "id": "358ef9c9",
   "metadata": {
    "hidden": true
   },
   "outputs": [
    {
     "data": {
      "text/plain": [
       "'melon'"
      ]
     },
     "execution_count": 41,
     "metadata": {},
     "output_type": "execute_result"
    }
   ],
   "source": [
    "\"watermelon\"[-5:]"
   ]
  },
  {
   "cell_type": "code",
   "execution_count": 43,
   "id": "00c5fb88",
   "metadata": {
    "hidden": true
   },
   "outputs": [
    {
     "data": {
      "text/plain": [
       "'water'"
      ]
     },
     "execution_count": 43,
     "metadata": {},
     "output_type": "execute_result"
    }
   ],
   "source": [
    "\"watermelon\"[:5]"
   ]
  },
  {
   "cell_type": "code",
   "execution_count": 46,
   "id": "238c65c2",
   "metadata": {
    "hidden": true
   },
   "outputs": [
    {
     "name": "stdout",
     "output_type": "stream",
     "text": [
      "시장에 가면 망고이 있다.\n"
     ]
    }
   ],
   "source": [
    "\"오늘의 메뉴\"\n",
    "fruit1 = \"망고\"\n",
    "fruit2 = \"파인애플\"\n",
    "fruit3 = \"멜론\"\n",
    "\n",
    "print(f\"시장에 가면 {fruit1}이 있다.\")"
   ]
  },
  {
   "cell_type": "code",
   "execution_count": 49,
   "id": "e93e3c2f",
   "metadata": {
    "hidden": true
   },
   "outputs": [
    {
     "name": "stdout",
     "output_type": "stream",
     "text": [
      "시장에 가면 mango도 있고\n",
      "시장에 가면 mango도 있고\n"
     ]
    }
   ],
   "source": [
    "fruit = [\"mango\", \"grape\", \"apple\", \"banana\", \"melon\", \"watermelon\"]\n",
    "\n",
    "print(f\"시장에 가면 {fruit[0]}도 있고\")\n",
    "print(\"시장에 가면 {}도 있고\".format(fruit[0]))"
   ]
  },
  {
   "cell_type": "code",
   "execution_count": 55,
   "id": "f5c79a8b",
   "metadata": {
    "hidden": true
   },
   "outputs": [
    {
     "data": {
      "text/plain": [
       "3"
      ]
     },
     "execution_count": 55,
     "metadata": {},
     "output_type": "execute_result"
    }
   ],
   "source": [
    "sentence = \"There is a mango in the market\"\n",
    "\n",
    "sentence.count(\"a\")"
   ]
  },
  {
   "cell_type": "code",
   "execution_count": 56,
   "id": "06174584",
   "metadata": {
    "hidden": true
   },
   "outputs": [
    {
     "data": {
      "text/plain": [
       "'THERE IS A MANGO IN THE MARKET'"
      ]
     },
     "execution_count": 56,
     "metadata": {},
     "output_type": "execute_result"
    }
   ],
   "source": [
    "sentence.upper()"
   ]
  },
  {
   "cell_type": "code",
   "execution_count": 57,
   "id": "5c0992ed",
   "metadata": {
    "hidden": true
   },
   "outputs": [
    {
     "data": {
      "text/plain": [
       "'there is a mango in the market'"
      ]
     },
     "execution_count": 57,
     "metadata": {},
     "output_type": "execute_result"
    }
   ],
   "source": [
    "sentence.lower()"
   ]
  },
  {
   "cell_type": "code",
   "execution_count": 59,
   "id": "07838dca",
   "metadata": {
    "hidden": true
   },
   "outputs": [
    {
     "data": {
      "text/plain": [
       "['There', 'is', 'a', 'mango', 'in', 'the', 'market']"
      ]
     },
     "execution_count": 59,
     "metadata": {},
     "output_type": "execute_result"
    }
   ],
   "source": [
    "sentence.split(\" \")"
   ]
  },
  {
   "cell_type": "code",
   "execution_count": 61,
   "id": "9744f689",
   "metadata": {
    "hidden": true
   },
   "outputs": [
    {
     "data": {
      "text/plain": [
       "'There is a grape in the market'"
      ]
     },
     "execution_count": 61,
     "metadata": {},
     "output_type": "execute_result"
    }
   ],
   "source": [
    "sentence.replace(fruit[0], fruit[1])"
   ]
  },
  {
   "cell_type": "code",
   "execution_count": 62,
   "id": "89344d5c",
   "metadata": {
    "hidden": true
   },
   "outputs": [
    {
     "data": {
      "text/plain": [
       "'There is a mango in the market'"
      ]
     },
     "execution_count": 62,
     "metadata": {},
     "output_type": "execute_result"
    }
   ],
   "source": [
    "sentence"
   ]
  },
  {
   "cell_type": "code",
   "execution_count": 63,
   "id": "c55aaafd",
   "metadata": {
    "hidden": true
   },
   "outputs": [
    {
     "data": {
      "text/plain": [
       "'There is a  in the market'"
      ]
     },
     "execution_count": 63,
     "metadata": {},
     "output_type": "execute_result"
    }
   ],
   "source": [
    "sentence.replace(\"mango\", \"\")"
   ]
  },
  {
   "cell_type": "code",
   "execution_count": 64,
   "id": "fcb5609d",
   "metadata": {
    "hidden": true
   },
   "outputs": [
    {
     "data": {
      "text/plain": [
       "'There is a mango in the market'"
      ]
     },
     "execution_count": 64,
     "metadata": {},
     "output_type": "execute_result"
    }
   ],
   "source": [
    "sentence"
   ]
  },
  {
   "cell_type": "code",
   "execution_count": 65,
   "id": "da46004c",
   "metadata": {
    "hidden": true
   },
   "outputs": [
    {
     "name": "stdout",
     "output_type": "stream",
     "text": [
      "2\n",
      "2.5\n",
      "1\n"
     ]
    }
   ],
   "source": [
    "print( 5 // 2 ) # 5 나누기 2의 몫 구하기\n",
    "print( 5 / 2)\n",
    "print( 5 % 2 ) # 5 나누기 2의 나머지 구하기"
   ]
  },
  {
   "cell_type": "code",
   "execution_count": 66,
   "id": "226d9f0e",
   "metadata": {
    "hidden": true
   },
   "outputs": [
    {
     "data": {
      "text/plain": [
       "9"
      ]
     },
     "execution_count": 66,
     "metadata": {},
     "output_type": "execute_result"
    }
   ],
   "source": [
    "num = 8\n",
    "num = num + 1\n",
    "num"
   ]
  },
  {
   "cell_type": "code",
   "execution_count": 67,
   "id": "0590bbd9",
   "metadata": {
    "hidden": true
   },
   "outputs": [],
   "source": [
    "num += 1"
   ]
  },
  {
   "cell_type": "code",
   "execution_count": 68,
   "id": "97f706c8",
   "metadata": {
    "hidden": true
   },
   "outputs": [
    {
     "data": {
      "text/plain": [
       "10"
      ]
     },
     "execution_count": 68,
     "metadata": {},
     "output_type": "execute_result"
    }
   ],
   "source": [
    "num"
   ]
  },
  {
   "cell_type": "code",
   "execution_count": 73,
   "id": "fdd02514",
   "metadata": {
    "hidden": true
   },
   "outputs": [
    {
     "name": "stdout",
     "output_type": "stream",
     "text": [
      "14\n",
      "14\n"
     ]
    }
   ],
   "source": [
    "print(7 + 7)\n",
    "print(int(\"7\") + int(\"7\"))"
   ]
  },
  {
   "cell_type": "markdown",
   "id": "481c6704",
   "metadata": {
    "heading_collapsed": true,
    "hidden": true
   },
   "source": [
    "### 다음 중 결과 값이 다른 하나는?  "
   ]
  },
  {
   "cell_type": "code",
   "execution_count": 74,
   "id": "7dd46f20",
   "metadata": {
    "hidden": true
   },
   "outputs": [
    {
     "data": {
      "text/plain": [
       "11"
      ]
     },
     "execution_count": 74,
     "metadata": {},
     "output_type": "execute_result"
    }
   ],
   "source": [
    "5 + 6"
   ]
  },
  {
   "cell_type": "code",
   "execution_count": 75,
   "id": "5d8f24b7",
   "metadata": {
    "hidden": true
   },
   "outputs": [
    {
     "data": {
      "text/plain": [
       "11"
      ]
     },
     "execution_count": 75,
     "metadata": {},
     "output_type": "execute_result"
    }
   ],
   "source": [
    "int(5) + int(6)"
   ]
  },
  {
   "cell_type": "code",
   "execution_count": 76,
   "id": "518b8bec",
   "metadata": {
    "hidden": true
   },
   "outputs": [
    {
     "data": {
      "text/plain": [
       "11"
      ]
     },
     "execution_count": 76,
     "metadata": {},
     "output_type": "execute_result"
    }
   ],
   "source": [
    "int(5 + 6)"
   ]
  },
  {
   "cell_type": "code",
   "execution_count": 77,
   "id": "6bd629b5",
   "metadata": {
    "hidden": true
   },
   "outputs": [
    {
     "data": {
      "text/plain": [
       "11"
      ]
     },
     "execution_count": 77,
     "metadata": {},
     "output_type": "execute_result"
    }
   ],
   "source": [
    "int(\"5\") + int(\"6\")"
   ]
  },
  {
   "cell_type": "code",
   "execution_count": 78,
   "id": "84ced063",
   "metadata": {
    "hidden": true
   },
   "outputs": [
    {
     "data": {
      "text/plain": [
       "56"
      ]
     },
     "execution_count": 78,
     "metadata": {},
     "output_type": "execute_result"
    }
   ],
   "source": [
    "int(\"5\"+\"6\")"
   ]
  },
  {
   "cell_type": "markdown",
   "id": "58bd2de9",
   "metadata": {
    "heading_collapsed": true
   },
   "source": [
    "## 논리형"
   ]
  },
  {
   "cell_type": "code",
   "execution_count": 79,
   "id": "239d2287",
   "metadata": {
    "hidden": true
   },
   "outputs": [
    {
     "data": {
      "text/plain": [
       "False"
      ]
     },
     "execution_count": 79,
     "metadata": {},
     "output_type": "execute_result"
    }
   ],
   "source": [
    "1 > 3"
   ]
  },
  {
   "cell_type": "code",
   "execution_count": 81,
   "id": "5ad9e70e",
   "metadata": {
    "hidden": true
   },
   "outputs": [
    {
     "data": {
      "text/plain": [
       "False"
      ]
     },
     "execution_count": 81,
     "metadata": {},
     "output_type": "execute_result"
    }
   ],
   "source": [
    "1 == 3"
   ]
  },
  {
   "cell_type": "markdown",
   "id": "236e3932",
   "metadata": {
    "heading_collapsed": true
   },
   "source": [
    "## 조건문"
   ]
  },
  {
   "cell_type": "markdown",
   "id": "b868906e",
   "metadata": {
    "hidden": true
   },
   "source": [
    "```python\n",
    "if 명제:\n",
    "    명제가 참일 때 실행하는 코드\n",
    "else:\n",
    "    명제가 거짓일 때 실행하는 코드\n",
    "```"
   ]
  },
  {
   "cell_type": "code",
   "execution_count": 82,
   "id": "d5147f47",
   "metadata": {
    "hidden": true
   },
   "outputs": [
    {
     "data": {
      "text/plain": [
       "True"
      ]
     },
     "execution_count": 82,
     "metadata": {},
     "output_type": "execute_result"
    }
   ],
   "source": [
    "fruit = [\"mango\", \"grape\", \"apple\", \"banana\", \"melon\", \"watermelon\"]\n",
    "\n",
    "\"mango\" in fruit"
   ]
  },
  {
   "cell_type": "code",
   "execution_count": 83,
   "id": "15941ecf",
   "metadata": {
    "hidden": true
   },
   "outputs": [
    {
     "data": {
      "text/plain": [
       "False"
      ]
     },
     "execution_count": 83,
     "metadata": {},
     "output_type": "execute_result"
    }
   ],
   "source": [
    "[\"mango, grape\"] in fruit"
   ]
  },
  {
   "cell_type": "code",
   "execution_count": 85,
   "id": "0447eaf6",
   "metadata": {
    "hidden": true
   },
   "outputs": [
    {
     "data": {
      "text/plain": [
       "True"
      ]
     },
     "execution_count": 85,
     "metadata": {},
     "output_type": "execute_result"
    }
   ],
   "source": [
    "\"mango\" and \"grape\" in fruit"
   ]
  },
  {
   "cell_type": "code",
   "execution_count": 86,
   "id": "03d4cdf2",
   "metadata": {
    "hidden": true
   },
   "outputs": [
    {
     "data": {
      "text/plain": [
       "'mango'"
      ]
     },
     "execution_count": 86,
     "metadata": {},
     "output_type": "execute_result"
    }
   ],
   "source": [
    "\"mango\" or \"grape\" in fruit"
   ]
  },
  {
   "cell_type": "code",
   "execution_count": 111,
   "id": "8bd50ecc",
   "metadata": {
    "hidden": true
   },
   "outputs": [],
   "source": [
    "title = \"tell me\"\n",
    "lyrics = '\\n너도 날 좋아할 줄은 몰랐어\\n어쩌면 좋아 너무나 좋아\\n꿈만 같아서 나 내 자신을 자꾸 꼬집어봐\\n너무나 좋아 니가 날 혹시 안 좋아할까 봐\\n혼자 얼마나 애태운 지 몰라\\n그런데 너도 날 사랑한다니\\n어머나 다시 한 번 말해봐\\n\\nTell me, tell me, tell tell tell tell tell tell me\\n나를 사랑한다고 날 기다려왔다고\\nTell me, tell me, tell tell tell tell tell tell me\\n내가 필요하다 말해 말해줘요\\nTell me tell me, tell tell tell tell tell tell me\\n자꾸만 듣고 싶어 계속 내게 말해줘\\nTell me, tell me, tell tell tell tell tell tell me\\n꿈이 아니라고 말해 말해줘요\\n\\n어쩜 내 가슴이 이렇게 뛰니\\n가슴이 정말 터질 것 같아 니가 날 볼 때면\\n전기에 감전된 사람처럼 전기가 올라\\n\\n얼마나 오래 기다린 지 몰라\\n얼마나 오래 꿈 꿨는지 몰라\\n그런데 너도 날 사랑한다니\\n어머나 다시 한 번 말해봐\\n\\nTell me, tell me, tell tell tell tell tell tell me\\n나를 사랑한다고 날 기다려왔다고\\nTell me, tell me, tell tell tell tell tell tell me\\n내가 필요하다 말해 말해줘요\\nTell me tell me, tell tell tell tell tell tell me\\n자꾸만 듣고 싶어 계속 내게 말해줘\\nTell me, tell me, tell tell tell tell tell tell me\\n꿈이 아니라고 말해 말해줘요\\n\\n♬\\n\\nTell me, tell me, tell me you want me\\nwant me, want me too. Tell me, tell me\\ntell me you love me too, love me too.\\n\\nHit me one time baby 다시 한번\\nOkay 방금한 건 알지만 또 한번\\n예 계속 말해줘 들어도 들어도 듣고 싶어\\n어쩜 이런 일이 꿈인가 싶어\\n어머나 좋아서 어쩌나 Baby baby\\n\\nTell me, tell me, tell tell tell tell tell tell me\\n나를 사랑한다고 날 기다려왔다고\\nTell me, tell me, tell tell tell tell tell tell me\\n내가 필요하다 말해 말해줘요\\nTell me tell me, tell tell tell tell tell tell me\\n자꾸만 듣고 싶어 계속 내게 말해줘\\nTell me, tell me, tell tell tell tell tell tell me\\n꿈이 아니라고 말해 말해줘요\\nTell me, tell me, tell tell tell tell tell tell me\\n'"
   ]
  },
  {
   "cell_type": "code",
   "execution_count": 112,
   "id": "396b9be4",
   "metadata": {
    "hidden": true
   },
   "outputs": [
    {
     "name": "stdout",
     "output_type": "stream",
     "text": [
      "yes\n"
     ]
    }
   ],
   "source": [
    "# tell me\n",
    "\n",
    "if title in lyrics:\n",
    "    print(\"yes\")\n",
    "else:\n",
    "    print(\"no\")"
   ]
  },
  {
   "cell_type": "code",
   "execution_count": 108,
   "id": "8ae7082d",
   "metadata": {
    "hidden": true
   },
   "outputs": [
    {
     "data": {
      "text/plain": [
       "30"
      ]
     },
     "execution_count": 108,
     "metadata": {},
     "output_type": "execute_result"
    }
   ],
   "source": [
    "# 가사 속 tell me 개수 구하기\n",
    "lyrics.count(\"tell me\")"
   ]
  },
  {
   "cell_type": "code",
   "execution_count": 117,
   "id": "68435f92",
   "metadata": {
    "hidden": true
   },
   "outputs": [
    {
     "data": {
      "text/plain": [
       "' 너도 날 좋아할 줄은 몰랐어 어쩌면 좋아 너무나 좋아 꿈만 같아서 나 내 자신을 자꾸 꼬집어봐 너무나 좋아 니가 날 혹시 안 좋아할까 봐 혼자 얼마나 애태운 지 몰라 그런데 너도 날 사랑한다니 어머나 다시 한 번 말해봐   ,  , tell tell tell tell tell   나를 사랑한다고 날 기다려왔다고  ,  , tell tell tell tell tell   내가 필요하다 말해 말해줘요    , tell tell tell tell tell   자꾸만 듣고 싶어 계속 내게 말해줘  ,  , tell tell tell tell tell   꿈이 아니라고 말해 말해줘요  어쩜 내 가슴이 이렇게 뛰니 가슴이 정말 터질 것 같아 니가 날 볼 때면 전기에 감전된 사람처럼 전기가 올라  얼마나 오래 기다린 지 몰라 얼마나 오래 꿈 꿨는지 몰라 그런데 너도 날 사랑한다니 어머나 다시 한 번 말해봐   ,  , tell tell tell tell tell   나를 사랑한다고 날 기다려왔다고  ,  , tell tell tell tell tell   내가 필요하다 말해 말해줘요    , tell tell tell tell tell   자꾸만 듣고 싶어 계속 내게 말해줘  ,  , tell tell tell tell tell   꿈이 아니라고 말해 말해줘요  ♬   ,  ,   you want me want me, want me too.  ,     you love me too, love me too.  hit me one time baby 다시 한번 okay 방금한 건 알지만 또 한번 예 계속 말해줘 들어도 들어도 듣고 싶어 어쩜 이런 일이 꿈인가 싶어 어머나 좋아서 어쩌나 baby baby   ,  , tell tell tell tell tell   나를 사랑한다고 날 기다려왔다고  ,  , tell tell tell tell tell   내가 필요하다 말해 말해줘요    , tell tell tell tell tell   자꾸만 듣고 싶어 계속 내게 말해줘  ,  , tell tell tell tell tell   꿈이 아니라고 말해 말해줘요  ,  , tell tell tell tell tell   '"
      ]
     },
     "execution_count": 117,
     "metadata": {},
     "output_type": "execute_result"
    }
   ],
   "source": [
    "# 가사 속 tell me 만 삭제하기\n",
    "# translate(): 여러 개 문자열 한 번에 삭제\n",
    "# replace\n",
    "lyrics = lyrics.replace(\"\\n\", \" \")\n",
    "lyrics = lyrics.lower()\n",
    "lyrics.replace(\"tell me\", \" \")"
   ]
  },
  {
   "cell_type": "code",
   "execution_count": 124,
   "id": "3733f55f",
   "metadata": {
    "hidden": true
   },
   "outputs": [
    {
     "data": {
      "text/plain": [
       "'너도 날 좋아할 줄은 몰랐어 어쩌면 좋아 너무나 좋아 꿈만 같아서 나 내 자신을 자꾸 꼬집어봐 너무나 좋아 니가 날 혹시 안 좋아할까 봐 혼자 얼마나 애태운 지 몰라 그런데 너도 날 사랑한다니 어머나 다시 한 번 말해봐 @@@@@@@@@, @@@@@@@@@, tell tell tell tell tell @@@@@@@@@ 나를 사랑한다고 날 기다려왔다고 @@@@@@@@@, @@@@@@@@@, tell tell tell tell tell @@@@@@@@@ 내가 필요하다 말해 말해줘요 @@@@@@@@@ @@@@@@@@@, tell tell tell tell tell @@@@@@@@@ 자꾸만 듣고 싶어 계속 내게 말해줘 @@@@@@@@@, @@@@@@@@@, tell tell tell tell tell @@@@@@@@@ 꿈이 아니라고 말해 말해줘요 어쩜 내 가슴이 이렇게 뛰니 가슴이 정말 터질 것 같아 니가 날 볼 때면 전기에 감전된 사람처럼 전기가 올라 얼마나 오래 기다린 지 몰라 얼마나 오래 꿈 꿨는지 몰라 그런데 너도 날 사랑한다니 어머나 다시 한 번 말해봐 @@@@@@@@@, @@@@@@@@@, tell tell tell tell tell @@@@@@@@@ 나를 사랑한다고 날 기다려왔다고 @@@@@@@@@, @@@@@@@@@, tell tell tell tell tell @@@@@@@@@ 내가 필요하다 말해 말해줘요 @@@@@@@@@ @@@@@@@@@, tell tell tell tell tell @@@@@@@@@ 자꾸만 듣고 싶어 계속 내게 말해줘 @@@@@@@@@, @@@@@@@@@, tell tell tell tell tell @@@@@@@@@ 꿈이 아니라고 말해 말해줘요 ♬ @@@@@@@@@, @@@@@@@@@, @@@@@@@@@ you want me want me, want me too. @@@@@@@@@, @@@@@@@@@ @@@@@@@@@ you love me too, love me too. hit me one time baby 다시 한번 okay 방금한 건 알지만 또 한번 예 계속 말해줘 들어도 들어도 듣고 싶어 어쩜 이런 일이 꿈인가 싶어 어머나 좋아서 어쩌나 baby baby @@@@@@@@@, @@@@@@@@@, tell tell tell tell tell @@@@@@@@@ 나를 사랑한다고 날 기다려왔다고 @@@@@@@@@, @@@@@@@@@, tell tell tell tell tell @@@@@@@@@ 내가 필요하다 말해 말해줘요 @@@@@@@@@ @@@@@@@@@, tell tell tell tell tell @@@@@@@@@ 자꾸만 듣고 싶어 계속 내게 말해줘 @@@@@@@@@, @@@@@@@@@, tell tell tell tell tell @@@@@@@@@ 꿈이 아니라고 말해 말해줘요 @@@@@@@@@, @@@@@@@@@, tell tell tell tell tell @@@@@@@@@'"
      ]
     },
     "execution_count": 124,
     "metadata": {},
     "output_type": "execute_result"
    }
   ],
   "source": [
    "# 가리는 경우 -> 마스킹 (masking)\n",
    "lyrics = lyrics.lower()\n",
    "lyrics = lyrics.replace(\"tell me\", \"@@@@@@@@@\")\n",
    "lyrics = lyrics.replace(\"  \", \" \")\n",
    "lyrics.strip() # lyrics[1:-1]"
   ]
  },
  {
   "cell_type": "markdown",
   "id": "6a70b4ba",
   "metadata": {
    "heading_collapsed": true
   },
   "source": [
    "## 리스트, 튜플"
   ]
  },
  {
   "cell_type": "markdown",
   "id": "8183f46e",
   "metadata": {
    "heading_collapsed": true
   },
   "source": [
    "## 데이터 추가\n",
    "1. 문자열: 덧셈 연산  \n",
    "2. 리스트: append, insert  "
   ]
  },
  {
   "cell_type": "code",
   "execution_count": 173,
   "id": "9e80ae9f",
   "metadata": {
    "hidden": true
   },
   "outputs": [
    {
     "data": {
      "text/plain": [
       "'짜장면, 짬뽕, 탕수육, 군만두'"
      ]
     },
     "execution_count": 173,
     "metadata": {},
     "output_type": "execute_result"
    }
   ],
   "source": [
    "menu = \"짜장면, 짬뽕, 탕수육\"\n",
    "\n",
    "menu = menu + \", 군만두\"\n",
    "\n",
    "menu"
   ]
  },
  {
   "cell_type": "code",
   "execution_count": 174,
   "id": "8f1bb73a",
   "metadata": {
    "hidden": true
   },
   "outputs": [
    {
     "data": {
      "text/plain": [
       "['짜장면', '짬뽕', '탕수육', '군만두']"
      ]
     },
     "execution_count": 174,
     "metadata": {},
     "output_type": "execute_result"
    }
   ],
   "source": [
    "menu2 = [\"짜장면\", \"짬뽕\", \"탕수육\"]\n",
    "menu2.append(\"군만두\")\n",
    "menu2"
   ]
  },
  {
   "cell_type": "code",
   "execution_count": 175,
   "id": "13fb4e92",
   "metadata": {
    "hidden": true
   },
   "outputs": [],
   "source": [
    "menu2.insert(1, \"팔보채\")"
   ]
  },
  {
   "cell_type": "code",
   "execution_count": 176,
   "id": "955b7a68",
   "metadata": {
    "hidden": true
   },
   "outputs": [
    {
     "data": {
      "text/plain": [
       "['짜장면', '팔보채', '짬뽕', '탕수육', '군만두']"
      ]
     },
     "execution_count": 176,
     "metadata": {},
     "output_type": "execute_result"
    }
   ],
   "source": [
    "menu2"
   ]
  },
  {
   "cell_type": "markdown",
   "id": "96c96f1f",
   "metadata": {
    "heading_collapsed": true
   },
   "source": [
    "## 데이터 제거"
   ]
  },
  {
   "cell_type": "markdown",
   "id": "fd3c398e",
   "metadata": {
    "hidden": true
   },
   "source": [
    "```\n",
    "1. 문자열: replace  \n",
    "2. 리스트: del, remove, pop  \n",
    "```"
   ]
  },
  {
   "cell_type": "code",
   "execution_count": 177,
   "id": "1dc96301",
   "metadata": {
    "hidden": true
   },
   "outputs": [
    {
     "data": {
      "text/plain": [
       "'짜장면, 짬뽕, 탕수육'"
      ]
     },
     "execution_count": 177,
     "metadata": {},
     "output_type": "execute_result"
    }
   ],
   "source": [
    "menu3 = menu\n",
    "menu3 = menu3.replace(\", 군만두\", \"\")\n",
    "menu3"
   ]
  },
  {
   "cell_type": "code",
   "execution_count": 178,
   "id": "29a2c444",
   "metadata": {
    "hidden": true
   },
   "outputs": [
    {
     "data": {
      "text/plain": [
       "['짜장면', '팔보채', '짬뽕', '군만두']"
      ]
     },
     "execution_count": 178,
     "metadata": {},
     "output_type": "execute_result"
    }
   ],
   "source": [
    "menu2.remove(\"탕수육\")\n",
    "menu2"
   ]
  },
  {
   "cell_type": "code",
   "execution_count": 179,
   "id": "e0aaf937",
   "metadata": {
    "hidden": true
   },
   "outputs": [
    {
     "data": {
      "text/plain": [
       "['짜장면', '팔보채', '짬뽕']"
      ]
     },
     "execution_count": 179,
     "metadata": {},
     "output_type": "execute_result"
    }
   ],
   "source": [
    "menu2.pop()\n",
    "menu2"
   ]
  },
  {
   "cell_type": "code",
   "execution_count": 180,
   "id": "a3935457",
   "metadata": {
    "hidden": true
   },
   "outputs": [
    {
     "data": {
      "text/plain": [
       "['짜장면', '유산슬', '짬뽕']"
      ]
     },
     "execution_count": 180,
     "metadata": {},
     "output_type": "execute_result"
    }
   ],
   "source": [
    "menu2[1] = \"유산슬\"\n",
    "menu2"
   ]
  },
  {
   "cell_type": "code",
   "execution_count": 181,
   "id": "baf9df00",
   "metadata": {
    "hidden": true
   },
   "outputs": [
    {
     "data": {
      "text/plain": [
       "[['mango', 'grape'], ['pineapple', 'banana', ['melon', 'watermelon']]]"
      ]
     },
     "execution_count": 181,
     "metadata": {},
     "output_type": "execute_result"
    }
   ],
   "source": [
    "fruit = [[\"mango\", \"grape\"], [\"apple\", \"banana\", [\"melon\", \"watermelon\"]]]\n",
    "# apple -> pineapple\n",
    "\n",
    "fruit[1][0] = \"pineapple\"\n",
    "fruit"
   ]
  },
  {
   "cell_type": "markdown",
   "id": "5f65cf01",
   "metadata": {
    "heading_collapsed": true
   },
   "source": [
    "## 반복문"
   ]
  },
  {
   "cell_type": "markdown",
   "id": "6879d395",
   "metadata": {
    "hidden": true
   },
   "source": [
    "```python\n",
    "while 명제:\n",
    "    명제가 참인 한 실행되는 코드\n",
    "```"
   ]
  },
  {
   "cell_type": "markdown",
   "id": "3944bd84",
   "metadata": {
    "heading_collapsed": true
   },
   "source": [
    "## 무한루프를 피하는 방법\n",
    "\n",
    "1. 특정 조건에서 while문에 걸려 있는 명제가 **거짓**이 되도록 설계한다.  \n",
    "2. **break**를 사용한다."
   ]
  },
  {
   "cell_type": "code",
   "execution_count": 182,
   "id": "d6391aa7",
   "metadata": {
    "hidden": true
   },
   "outputs": [
    {
     "name": "stdout",
     "output_type": "stream",
     "text": [
      "0\n",
      "1\n",
      "2\n"
     ]
    }
   ],
   "source": [
    "n = 0\n",
    "while n < 3:\n",
    "    print(n)\n",
    "    n = n + 1\n",
    "    "
   ]
  },
  {
   "cell_type": "code",
   "execution_count": 183,
   "id": "4848f9b4",
   "metadata": {
    "hidden": true
   },
   "outputs": [
    {
     "name": "stdout",
     "output_type": "stream",
     "text": [
      "0\n",
      "1\n",
      "2\n"
     ]
    }
   ],
   "source": [
    "n = 0\n",
    "while True:\n",
    "    print(n)\n",
    "    n += 1\n",
    "    if n >= 3:\n",
    "        break\n",
    "    else:\n",
    "        pass\n",
    "    "
   ]
  },
  {
   "cell_type": "code",
   "execution_count": 207,
   "id": "d9b09fea",
   "metadata": {
    "hidden": true
   },
   "outputs": [
    {
     "name": "stdout",
     "output_type": "stream",
     "text": [
      "1032\n"
     ]
    }
   ],
   "source": [
    "# 문제\n",
    "## 1000이 넘는 최초의 43의 배수 찾기\n",
    "\n",
    "n = 1000\n",
    "while n % 43 != 0:\n",
    "    n += 1\n",
    "print(n)"
   ]
  },
  {
   "cell_type": "code",
   "execution_count": 209,
   "id": "eba94417",
   "metadata": {
    "hidden": true
   },
   "outputs": [
    {
     "name": "stdout",
     "output_type": "stream",
     "text": [
      "1032\n"
     ]
    }
   ],
   "source": [
    "n = 0\n",
    "while n * 43 < 1000:\n",
    "    n += 1\n",
    "print(n * 43)\n"
   ]
  },
  {
   "cell_type": "code",
   "execution_count": 211,
   "id": "fd1698d6",
   "metadata": {
    "hidden": true
   },
   "outputs": [
    {
     "name": "stdout",
     "output_type": "stream",
     "text": [
      "1032\n"
     ]
    }
   ],
   "source": [
    "n = 1000\n",
    "while True:\n",
    "    n += 1\n",
    "    if n % 43 == 0:\n",
    "        print(n)\n",
    "        break\n",
    "    else:\n",
    "        pass"
   ]
  },
  {
   "cell_type": "code",
   "execution_count": 213,
   "id": "f36bc76e",
   "metadata": {
    "hidden": true,
    "scrolled": true
   },
   "outputs": [
    {
     "name": "stdout",
     "output_type": "stream",
     "text": [
      "11524\n"
     ]
    }
   ],
   "source": [
    "# 43과 67의 공배수 구하기\n",
    "\n",
    "# 내가 한 거\n",
    "n = 10000\n",
    "while (n % (43 * 67)) != 0:\n",
    "    n+=1\n",
    "print(n)"
   ]
  },
  {
   "cell_type": "code",
   "execution_count": 219,
   "id": "c253ac08",
   "metadata": {
    "hidden": true
   },
   "outputs": [
    {
     "name": "stdout",
     "output_type": "stream",
     "text": [
      "11524\n"
     ]
    }
   ],
   "source": [
    "# 강사님이 한 거\n",
    "\n",
    "n = 10000\n",
    "while (n % 43 != 0) or (n % 67 != 0):\n",
    "    n+=1\n",
    "print(n)"
   ]
  },
  {
   "cell_type": "code",
   "execution_count": 214,
   "id": "27b15890",
   "metadata": {
    "hidden": true
   },
   "outputs": [
    {
     "data": {
      "text/plain": [
       "2881"
      ]
     },
     "execution_count": 214,
     "metadata": {},
     "output_type": "execute_result"
    }
   ],
   "source": [
    "43 * 67"
   ]
  },
  {
   "cell_type": "code",
   "execution_count": 215,
   "id": "f129e21d",
   "metadata": {
    "hidden": true
   },
   "outputs": [
    {
     "data": {
      "text/plain": [
       "11524"
      ]
     },
     "execution_count": 215,
     "metadata": {},
     "output_type": "execute_result"
    }
   ],
   "source": [
    "2881 * 426"
   ]
  },
  {
   "cell_type": "markdown",
   "id": "d6e699e6",
   "metadata": {
    "heading_collapsed": true,
    "hidden": true
   },
   "source": [
    "### for문\n",
    "\n",
    "```python\n",
    "for 변수 in 순서가 있는 자료형:\n",
    "    코드\n",
    "```"
   ]
  },
  {
   "cell_type": "code",
   "execution_count": 222,
   "id": "9b1efa66",
   "metadata": {
    "hidden": true
   },
   "outputs": [
    {
     "name": "stdout",
     "output_type": "stream",
     "text": [
      "1\n",
      "4\n",
      "9\n",
      "16\n"
     ]
    }
   ],
   "source": [
    "for i in [1, 2, 3, 4]:\n",
    "    print(i**2)"
   ]
  },
  {
   "cell_type": "code",
   "execution_count": 238,
   "id": "bcca6a23",
   "metadata": {
    "hidden": true
   },
   "outputs": [
    {
     "name": "stdout",
     "output_type": "stream",
     "text": [
      "3 x 1 = 3\n",
      "3 x 2 = 6\n",
      "3 x 3 = 9\n",
      "3 x 4 = 12\n",
      "3 x 5 = 15\n",
      "3 x 6 = 18\n",
      "3 x 7 = 21\n",
      "3 x 8 = 24\n",
      "3 x 9 = 27\n"
     ]
    }
   ],
   "source": [
    "# 문제: 구구단 3단\n",
    "## 3 x 1 = 3 ... 3 x 9 = 27\n",
    "\n",
    "\n",
    "for i in list(range(1, 10)):\n",
    "    print(\"3 x {} = {}\".format(i, 3*i))"
   ]
  },
  {
   "cell_type": "code",
   "execution_count": 240,
   "id": "c967a0b4",
   "metadata": {
    "hidden": true
   },
   "outputs": [
    {
     "name": "stdout",
     "output_type": "stream",
     "text": [
      "1\n",
      "1\n",
      "1\n"
     ]
    }
   ],
   "source": [
    "# a와 b를 비교해서 같은 순서상에 원소가 같은 숫자들이면 1, 아니면 0\n",
    "\n",
    "\n",
    "a = [1, 2, 3, 4, 5, 6, 7]\n",
    "b = [2, 4, 3, 6, 5, 3, 7]\n",
    "\n",
    "# 정답: 3\n",
    "\n",
    "for i, j in zip(a, b):\n",
    "    if i == j:\n",
    "        print(1)\n",
    "    else:\n",
    "        pass\n",
    "\n",
    "    \n",
    "    "
   ]
  },
  {
   "cell_type": "code",
   "execution_count": 244,
   "id": "a9d429ea",
   "metadata": {
    "hidden": true
   },
   "outputs": [
    {
     "data": {
      "text/plain": [
       "3"
      ]
     },
     "execution_count": 244,
     "metadata": {},
     "output_type": "execute_result"
    }
   ],
   "source": [
    "n = 0\n",
    "a = [1, 2, 3, 4, 5, 6, 7]\n",
    "b = [2, 4, 3, 6, 5, 3, 7]\n",
    "\n",
    "for i in range(len(a)):\n",
    "    if a[i] == b[i]:\n",
    "        n += 1\n",
    "    else:\n",
    "        pass\n",
    "n"
   ]
  },
  {
   "cell_type": "code",
   "execution_count": 251,
   "id": "5362a16c",
   "metadata": {
    "hidden": true
   },
   "outputs": [
    {
     "data": {
      "text/plain": [
       "3"
      ]
     },
     "execution_count": 251,
     "metadata": {},
     "output_type": "execute_result"
    }
   ],
   "source": [
    "n = 0\n",
    "a = [1, 2, 3, 4, 5, 6, 7]\n",
    "b = [2, 4, 3, 6, 5, 3, 7]\n",
    "\n",
    "for w, i in enumerate(a):\n",
    "    if i == b[w]:\n",
    "        n += 1\n",
    "    else:\n",
    "        pass\n",
    "n"
   ]
  },
  {
   "cell_type": "markdown",
   "id": "bde5ca28",
   "metadata": {
    "heading_collapsed": true,
    "hidden": true
   },
   "source": [
    "### 이중 for문"
   ]
  },
  {
   "cell_type": "markdown",
   "id": "3c2c985a",
   "metadata": {
    "hidden": true
   },
   "source": [
    "구구단 뽑기\n",
    "```\n",
    "1 x 1 = 1\n",
    ".\n",
    ".\n",
    ".\n",
    "9 x 9 = 81\n",
    "```"
   ]
  },
  {
   "cell_type": "code",
   "execution_count": 262,
   "id": "6beefa8b",
   "metadata": {
    "hidden": true
   },
   "outputs": [
    {
     "name": "stdout",
     "output_type": "stream",
     "text": [
      "1 x 1 = 1\n",
      "1 x 2 = 2\n",
      "1 x 3 = 3\n",
      "1 x 4 = 4\n",
      "1 x 5 = 5\n",
      "1 x 6 = 6\n",
      "1 x 7 = 7\n",
      "1 x 8 = 8\n",
      "1 x 9 = 9\n",
      "-------------------1단이었습니다.----------------------------\n",
      "2 x 1 = 2\n",
      "2 x 2 = 4\n",
      "2 x 3 = 6\n",
      "2 x 4 = 8\n",
      "2 x 5 = 10\n",
      "2 x 6 = 12\n",
      "2 x 7 = 14\n",
      "2 x 8 = 16\n",
      "2 x 9 = 18\n",
      "-------------------2단이었습니다.----------------------------\n",
      "3 x 1 = 3\n",
      "3 x 2 = 6\n",
      "3 x 3 = 9\n",
      "3 x 4 = 12\n",
      "3 x 5 = 15\n",
      "3 x 6 = 18\n",
      "3 x 7 = 21\n",
      "3 x 8 = 24\n",
      "3 x 9 = 27\n",
      "-------------------3단이었습니다.----------------------------\n",
      "4 x 1 = 4\n",
      "4 x 2 = 8\n",
      "4 x 3 = 12\n",
      "4 x 4 = 16\n",
      "4 x 5 = 20\n",
      "4 x 6 = 24\n",
      "4 x 7 = 28\n",
      "4 x 8 = 32\n",
      "4 x 9 = 36\n",
      "-------------------4단이었습니다.----------------------------\n",
      "5 x 1 = 5\n",
      "5 x 2 = 10\n",
      "5 x 3 = 15\n",
      "5 x 4 = 20\n",
      "5 x 5 = 25\n",
      "5 x 6 = 30\n",
      "5 x 7 = 35\n",
      "5 x 8 = 40\n",
      "5 x 9 = 45\n",
      "-------------------5단이었습니다.----------------------------\n",
      "6 x 1 = 6\n",
      "6 x 2 = 12\n",
      "6 x 3 = 18\n",
      "6 x 4 = 24\n",
      "6 x 5 = 30\n",
      "6 x 6 = 36\n",
      "6 x 7 = 42\n",
      "6 x 8 = 48\n",
      "6 x 9 = 54\n",
      "-------------------6단이었습니다.----------------------------\n",
      "7 x 1 = 7\n",
      "7 x 2 = 14\n",
      "7 x 3 = 21\n",
      "7 x 4 = 28\n",
      "7 x 5 = 35\n",
      "7 x 6 = 42\n",
      "7 x 7 = 49\n",
      "7 x 8 = 56\n",
      "7 x 9 = 63\n",
      "-------------------7단이었습니다.----------------------------\n",
      "8 x 1 = 8\n",
      "8 x 2 = 16\n",
      "8 x 3 = 24\n",
      "8 x 4 = 32\n",
      "8 x 5 = 40\n",
      "8 x 6 = 48\n",
      "8 x 7 = 56\n",
      "8 x 8 = 64\n",
      "8 x 9 = 72\n",
      "-------------------8단이었습니다.----------------------------\n",
      "9 x 1 = 9\n",
      "9 x 2 = 18\n",
      "9 x 3 = 27\n",
      "9 x 4 = 36\n",
      "9 x 5 = 45\n",
      "9 x 6 = 54\n",
      "9 x 7 = 63\n",
      "9 x 8 = 72\n",
      "9 x 9 = 81\n",
      "-------------------9단이었습니다.----------------------------\n"
     ]
    }
   ],
   "source": [
    "for i in range(1, 10):\n",
    "    for j in range(1, 10):\n",
    "        print(\"{} x {} = {}\".format(i, j, i * j))\n",
    "    print(\"-------------------{}단이었습니다.----------------------------\".format(i))"
   ]
  },
  {
   "cell_type": "markdown",
   "id": "cb887794",
   "metadata": {
    "heading_collapsed": true
   },
   "source": [
    "## try문, except문"
   ]
  },
  {
   "cell_type": "markdown",
   "id": "7dfcc914",
   "metadata": {
    "hidden": true
   },
   "source": [
    "```python\n",
    "try:\n",
    "    에러가 날 수도 있는 코드가 에러가 나지 않을 경우에 실행될 코드\n",
    "except:\n",
    "    에러가 날 수도 있는 코드가 에러가 났을 때 실행될 코드\n",
    "```"
   ]
  },
  {
   "cell_type": "code",
   "execution_count": 263,
   "id": "69f628d9",
   "metadata": {
    "hidden": true
   },
   "outputs": [
    {
     "name": "stdout",
     "output_type": "stream",
     "text": [
      "0.14285714285714285\n",
      "0.16666666666666666\n",
      "0.2\n",
      "0.25\n",
      "0.3333333333333333\n",
      "0.5\n",
      "1.0\n",
      "에러가 나왔습니다.\n",
      "-1.0\n",
      "-0.5\n"
     ]
    }
   ],
   "source": [
    "for i in range(10):\n",
    "    try:\n",
    "        print(1/(7-i))\n",
    "    except:\n",
    "        print(\"에러가 나왔습니다.\")"
   ]
  },
  {
   "cell_type": "code",
   "execution_count": 267,
   "id": "adf52aa8",
   "metadata": {
    "hidden": true
   },
   "outputs": [
    {
     "name": "stdout",
     "output_type": "stream",
     "text": [
      "3의 배수를 입력하세요.:2\n"
     ]
    },
    {
     "ename": "Exception",
     "evalue": "Value Error",
     "output_type": "error",
     "traceback": [
      "\u001b[1;31m---------------------------------------------------------------------------\u001b[0m",
      "\u001b[1;31mException\u001b[0m                                 Traceback (most recent call last)",
      "Input \u001b[1;32mIn [267]\u001b[0m, in \u001b[0;36m<cell line: 2>\u001b[1;34m()\u001b[0m\n\u001b[0;32m      1\u001b[0m a \u001b[38;5;241m=\u001b[39m \u001b[38;5;28mint\u001b[39m(\u001b[38;5;28minput\u001b[39m(\u001b[38;5;124m\"\u001b[39m\u001b[38;5;124m3의 배수를 입력하세요.:\u001b[39m\u001b[38;5;124m\"\u001b[39m))\n\u001b[0;32m      2\u001b[0m \u001b[38;5;28;01mif\u001b[39;00m a \u001b[38;5;241m%\u001b[39m \u001b[38;5;241m3\u001b[39m \u001b[38;5;241m!=\u001b[39m \u001b[38;5;241m0\u001b[39m:\n\u001b[1;32m----> 3\u001b[0m     \u001b[38;5;28;01mraise\u001b[39;00m \u001b[38;5;167;01mException\u001b[39;00m(\u001b[38;5;124m\"\u001b[39m\u001b[38;5;124mValue Error\u001b[39m\u001b[38;5;124m\"\u001b[39m)\n\u001b[0;32m      4\u001b[0m \u001b[38;5;28;01melse\u001b[39;00m:\n\u001b[0;32m      5\u001b[0m     \u001b[38;5;28mprint\u001b[39m(a)\n",
      "\u001b[1;31mException\u001b[0m: Value Error"
     ]
    }
   ],
   "source": [
    "a = int(input(\"3의 배수를 입력하세요.:\"))\n",
    "if a % 3 != 0:\n",
    "    raise Exception(\"Value Error\")\n",
    "else:\n",
    "    print(a)"
   ]
  },
  {
   "cell_type": "markdown",
   "id": "c3276957",
   "metadata": {
    "heading_collapsed": true
   },
   "source": [
    "## 에러보는 법"
   ]
  },
  {
   "cell_type": "code",
   "execution_count": 268,
   "id": "9535c151",
   "metadata": {
    "hidden": true
   },
   "outputs": [
    {
     "ename": "IndexError",
     "evalue": "range object index out of range",
     "output_type": "error",
     "traceback": [
      "\u001b[1;31m---------------------------------------------------------------------------\u001b[0m",
      "\u001b[1;31mIndexError\u001b[0m                                Traceback (most recent call last)",
      "Input \u001b[1;32mIn [268]\u001b[0m, in \u001b[0;36m<cell line: 1>\u001b[1;34m()\u001b[0m\n\u001b[1;32m----> 1\u001b[0m a \u001b[38;5;241m=\u001b[39m \u001b[38;5;28;43mrange\u001b[39;49m\u001b[43m(\u001b[49m\u001b[38;5;241;43m10\u001b[39;49m\u001b[43m)\u001b[49m\u001b[43m[\u001b[49m\u001b[38;5;241;43m12\u001b[39;49m\u001b[43m]\u001b[49m\n",
      "\u001b[1;31mIndexError\u001b[0m: range object index out of range"
     ]
    }
   ],
   "source": [
    "a = range(10)[12]"
   ]
  },
  {
   "cell_type": "markdown",
   "id": "568a73ec",
   "metadata": {
    "hidden": true
   },
   "source": [
    "```\n",
    "a = range(10)[12]\n",
    "```\n",
    "```python\n",
    "---------------------------------------------------------------------------\n",
    "IndexError                                Traceback (most recent call last)\n",
    "Input In [268], in <cell line: 1>()\n",
    "----> 1 a = range(10)[12]\n",
    "\n",
    "IndexError: range object index out of range\n",
    "```\n",
    "\n",
    "인덱스 에러: 범주를 벗어남"
   ]
  },
  {
   "cell_type": "code",
   "execution_count": 270,
   "id": "0229a0d0",
   "metadata": {
    "hidden": true
   },
   "outputs": [
    {
     "ename": "SyntaxError",
     "evalue": "unexpected EOF while parsing (2282165109.py, line 1)",
     "output_type": "error",
     "traceback": [
      "\u001b[1;36m  Input \u001b[1;32mIn [270]\u001b[1;36m\u001b[0m\n\u001b[1;33m    a = range(10\u001b[0m\n\u001b[1;37m                ^\u001b[0m\n\u001b[1;31mSyntaxError\u001b[0m\u001b[1;31m:\u001b[0m unexpected EOF while parsing\n"
     ]
    }
   ],
   "source": [
    "a = range(10"
   ]
  },
  {
   "cell_type": "markdown",
   "id": "619d2bd2",
   "metadata": {
    "hidden": true
   },
   "source": [
    "```\n",
    "a = range(10\n",
    "```\n",
    "\n",
    "```python\n",
    "  Input In [270]\n",
    "    a = range(10\n",
    "                ^\n",
    "SyntaxError: unexpected EOF while parsing\n",
    "```\n",
    "\n",
    "EOF => 맨 끝이 이상해"
   ]
  },
  {
   "cell_type": "markdown",
   "id": "c561d571",
   "metadata": {},
   "source": [
    "## 깃허브"
   ]
  },
  {
   "cell_type": "code",
   "execution_count": 2,
   "id": "acf699de",
   "metadata": {},
   "outputs": [
    {
     "name": "stderr",
     "output_type": "stream",
     "text": [
      "Cloning into 'Netflix-Movie-Recommendation-System'...\n"
     ]
    }
   ],
   "source": [
    "!git clone https://github.com/u128str/Netflix-Movie-Recommendation-System.git\n"
   ]
  },
  {
   "cell_type": "markdown",
   "id": "89070fd4",
   "metadata": {},
   "source": [
    "## 코드 공부 사이트\n"
   ]
  },
  {
   "cell_type": "markdown",
   "id": "8c087632",
   "metadata": {},
   "source": [
    "프로젝트 오일러  \n",
    "https://euler.synap.co.kr/"
   ]
  },
  {
   "cell_type": "code",
   "execution_count": 24,
   "id": "8681953e",
   "metadata": {},
   "outputs": [
    {
     "name": "stdout",
     "output_type": "stream",
     "text": [
      "25164150\n"
     ]
    }
   ],
   "source": [
    "a = 0\n",
    "b = 0\n",
    "for i in range(1, 101):\n",
    "    a += (i ** 2)\n",
    "    b += i\n",
    "    \n",
    "print((b ** 2) - a)"
   ]
  },
  {
   "cell_type": "markdown",
   "id": "4a4d3d99",
   "metadata": {},
   "source": [
    "## 딕셔너리"
   ]
  },
  {
   "cell_type": "code",
   "execution_count": 59,
   "id": "21020c87",
   "metadata": {},
   "outputs": [
    {
     "data": {
      "text/plain": [
       "{'사과': 800, '바나나': 1000, '포도': 2600}"
      ]
     },
     "execution_count": 59,
     "metadata": {},
     "output_type": "execute_result"
    }
   ],
   "source": [
    "fruit_store = {\"사과\" : 800, \"바나나\" : 1000, \"포도\" : 2600}\n",
    "fruit_store\n"
   ]
  },
  {
   "cell_type": "code",
   "execution_count": 60,
   "id": "25a1fed0",
   "metadata": {},
   "outputs": [
    {
     "data": {
      "text/plain": [
       "dict_keys(['사과', '바나나', '포도'])"
      ]
     },
     "execution_count": 60,
     "metadata": {},
     "output_type": "execute_result"
    }
   ],
   "source": [
    "fruit_store.keys()"
   ]
  },
  {
   "cell_type": "code",
   "execution_count": 61,
   "id": "d9909051",
   "metadata": {},
   "outputs": [
    {
     "data": {
      "text/plain": [
       "dict_values([800, 1000, 2600])"
      ]
     },
     "execution_count": 61,
     "metadata": {},
     "output_type": "execute_result"
    }
   ],
   "source": [
    "fruit_store.values()"
   ]
  },
  {
   "cell_type": "code",
   "execution_count": 62,
   "id": "c2111d96",
   "metadata": {},
   "outputs": [
    {
     "name": "stdout",
     "output_type": "stream",
     "text": [
      "720.0\n",
      "900.0\n",
      "2340.0\n"
     ]
    }
   ],
   "source": [
    "for i in fruit_store.values():\n",
    "    fruit_store2 = print(i * 0.9)\n"
   ]
  },
  {
   "cell_type": "code",
   "execution_count": 63,
   "id": "b0524d11",
   "metadata": {},
   "outputs": [
    {
     "data": {
      "text/plain": [
       "{'사과': 720.0, '바나나': 900.0, '포도': 2340.0}"
      ]
     },
     "execution_count": 63,
     "metadata": {},
     "output_type": "execute_result"
    }
   ],
   "source": [
    "for i in fruit_store:\n",
    "    fruit_store2 = fruit_store[i] * 0.9\n",
    "    fruit_store[i] = fruit_store2\n",
    "fruit_store"
   ]
  },
  {
   "cell_type": "code",
   "execution_count": 68,
   "id": "748f429e",
   "metadata": {},
   "outputs": [],
   "source": [
    "# 전국 사과 가격의 평균 구하기\n",
    "ggg = {\"서울점\" : {\"사과\" : 800, \"바나나\" : 1000, \"포도\" : 800},\n",
    "       \"부산점\" : {\"사과\" : 700, \"바나나\" : 900, \"포도\" : 900},\n",
    "       \"대구점\" : {\"사과\" : 750, \"바나나\" : 800, \"포도\" : 1000}}"
   ]
  },
  {
   "cell_type": "code",
   "execution_count": 102,
   "id": "a486dc65",
   "metadata": {},
   "outputs": [
    {
     "data": {
      "text/plain": [
       "dict_keys(['서울점', '부산점', '대구점'])"
      ]
     },
     "execution_count": 102,
     "metadata": {},
     "output_type": "execute_result"
    }
   ],
   "source": [
    "ggg.keys()"
   ]
  },
  {
   "cell_type": "code",
   "execution_count": 101,
   "id": "7cc347b1",
   "metadata": {},
   "outputs": [
    {
     "data": {
      "text/plain": [
       "750.0"
      ]
     },
     "execution_count": 101,
     "metadata": {},
     "output_type": "execute_result"
    }
   ],
   "source": [
    "a = ggg['서울점']['사과']\n",
    "b = ggg['부산점']['사과']\n",
    "c = ggg['대구점']['사과']\n",
    "\n",
    "(a + b + c) / 3"
   ]
  },
  {
   "cell_type": "code",
   "execution_count": 118,
   "id": "2bfb9c9d",
   "metadata": {},
   "outputs": [
    {
     "name": "stdout",
     "output_type": "stream",
     "text": [
      "750.0\n"
     ]
    }
   ],
   "source": [
    "n = 0\n",
    "for i in ggg:\n",
    "    n = n + ggg[i][\"사과\"]\n",
    "print(n / len(ggg.keys()))"
   ]
  },
  {
   "cell_type": "markdown",
   "id": "965f449f",
   "metadata": {},
   "source": [
    "## 함수를 만들어 보자"
   ]
  },
  {
   "cell_type": "markdown",
   "id": "18b7401b",
   "metadata": {},
   "source": [
    "```python\n",
    "def add(x, y):\n",
    "    return x + y\n",
    "```"
   ]
  },
  {
   "cell_type": "code",
   "execution_count": 119,
   "id": "c40846cf",
   "metadata": {},
   "outputs": [],
   "source": [
    "def add(x, y):\n",
    "    return x + y\n"
   ]
  },
  {
   "cell_type": "code",
   "execution_count": 120,
   "id": "0bd9774f",
   "metadata": {},
   "outputs": [
    {
     "data": {
      "text/plain": [
       "5"
      ]
     },
     "execution_count": 120,
     "metadata": {},
     "output_type": "execute_result"
    }
   ],
   "source": [
    "add(2, 3)"
   ]
  },
  {
   "cell_type": "code",
   "execution_count": 121,
   "id": "4e685048",
   "metadata": {},
   "outputs": [
    {
     "data": {
      "text/plain": [
       "'안녕하세요'"
      ]
     },
     "execution_count": 121,
     "metadata": {},
     "output_type": "execute_result"
    }
   ],
   "source": [
    "add(\"안녕\", \"하세요\")"
   ]
  },
  {
   "cell_type": "code",
   "execution_count": 123,
   "id": "d6cb4327",
   "metadata": {},
   "outputs": [],
   "source": [
    "def jegop (x, y):\n",
    "    a = 0\n",
    "    b = 0\n",
    "    for i in range(x, y):\n",
    "        a += i\n",
    "        b += i ** 2\n",
    "    print(a ** 2 -b)\n",
    "\n"
   ]
  },
  {
   "cell_type": "code",
   "execution_count": 124,
   "id": "c2148ee4",
   "metadata": {},
   "outputs": [
    {
     "name": "stdout",
     "output_type": "stream",
     "text": [
      "24174150\n"
     ]
    }
   ],
   "source": [
    "jegop(1, 100)"
   ]
  },
  {
   "cell_type": "code",
   "execution_count": 125,
   "id": "7054fce9",
   "metadata": {},
   "outputs": [
    {
     "name": "stdout",
     "output_type": "stream",
     "text": [
      "25164150\n"
     ]
    }
   ],
   "source": [
    "jegop(1, 101)"
   ]
  },
  {
   "cell_type": "code",
   "execution_count": 3,
   "id": "e7b12a1e",
   "metadata": {},
   "outputs": [
    {
     "name": "stdout",
     "output_type": "stream",
     "text": [
      "1 2\n"
     ]
    },
    {
     "ename": "TypeError",
     "evalue": "int() argument must be a string, a bytes-like object or a number, not 'list'",
     "output_type": "error",
     "traceback": [
      "\u001b[1;31m---------------------------------------------------------------------------\u001b[0m",
      "\u001b[1;31mTypeError\u001b[0m                                 Traceback (most recent call last)",
      "Input \u001b[1;32mIn [3]\u001b[0m, in \u001b[0;36m<cell line: 1>\u001b[1;34m()\u001b[0m\n\u001b[1;32m----> 1\u001b[0m A, B \u001b[38;5;241m=\u001b[39m \u001b[38;5;28mmap\u001b[39m(\u001b[38;5;28;43mint\u001b[39;49m\u001b[43m(\u001b[49m\u001b[38;5;28;43minput\u001b[39;49m\u001b[43m(\u001b[49m\u001b[43m)\u001b[49m\u001b[38;5;241;43m.\u001b[39;49m\u001b[43msplit\u001b[49m\u001b[43m(\u001b[49m\u001b[43m)\u001b[49m\u001b[43m)\u001b[49m)\n\u001b[0;32m      2\u001b[0m \u001b[38;5;28mprint\u001b[39m(A\u001b[38;5;241m+\u001b[39mB)\n",
      "\u001b[1;31mTypeError\u001b[0m: int() argument must be a string, a bytes-like object or a number, not 'list'"
     ]
    }
   ],
   "source": [
    "A, B = map(int(input().split()))\n",
    "print(A+B)\n"
   ]
  },
  {
   "cell_type": "code",
   "execution_count": null,
   "id": "6de01b19",
   "metadata": {},
   "outputs": [],
   "source": []
  }
 ],
 "metadata": {
  "kernelspec": {
   "display_name": "Python 3 (ipykernel)",
   "language": "python",
   "name": "python3"
  },
  "language_info": {
   "codemirror_mode": {
    "name": "ipython",
    "version": 3
   },
   "file_extension": ".py",
   "mimetype": "text/x-python",
   "name": "python",
   "nbconvert_exporter": "python",
   "pygments_lexer": "ipython3",
   "version": "3.9.12"
  },
  "toc": {
   "base_numbering": 1,
   "nav_menu": {},
   "number_sections": true,
   "sideBar": true,
   "skip_h1_title": false,
   "title_cell": "Table of Contents",
   "title_sidebar": "Contents",
   "toc_cell": false,
   "toc_position": {},
   "toc_section_display": true,
   "toc_window_display": false
  }
 },
 "nbformat": 4,
 "nbformat_minor": 5
}
